{
 "cells": [
  {
   "cell_type": "markdown",
   "id": "44cda470",
   "metadata": {},
   "source": [
    "# Pandas"
   ]
  },
  {
   "cell_type": "code",
   "execution_count": 1,
   "id": "efe31e39",
   "metadata": {},
   "outputs": [],
   "source": [
    "# tool for data processing which helps in data analysis"
   ]
  },
  {
   "cell_type": "code",
   "execution_count": 2,
   "id": "29264ed7",
   "metadata": {},
   "outputs": [],
   "source": [
    "# provides functions and methods to effeciently manipulate large data sets"
   ]
  },
  {
   "cell_type": "code",
   "execution_count": 3,
   "id": "3a435400",
   "metadata": {},
   "outputs": [],
   "source": [
    "# pandas is a framework which is like a data base ( more like a gaint excel spreadsheets)"
   ]
  },
  {
   "cell_type": "code",
   "execution_count": 4,
   "id": "78c20bf5",
   "metadata": {},
   "outputs": [],
   "source": [
    "# pandas has two types of framework ( dataframes for multi-dimensional and series for one dimensional)"
   ]
  },
  {
   "cell_type": "code",
   "execution_count": 5,
   "id": "f16c0212",
   "metadata": {},
   "outputs": [],
   "source": [
    "# Pandas Series "
   ]
  },
  {
   "cell_type": "code",
   "execution_count": 14,
   "id": "bc7c3336",
   "metadata": {},
   "outputs": [],
   "source": [
    "# Series is one dimensional array with labels it can contain any datatype including integer, string, floats, python objects "
   ]
  },
  {
   "cell_type": "code",
   "execution_count": 15,
   "id": "9d55959f",
   "metadata": {},
   "outputs": [],
   "source": [
    "# index and data\n"
   ]
  },
  {
   "cell_type": "code",
   "execution_count": 16,
   "id": "fcb602f6",
   "metadata": {},
   "outputs": [],
   "source": [
    "# Pandas Dataframe"
   ]
  },
  {
   "cell_type": "code",
   "execution_count": 17,
   "id": "8e833a6f",
   "metadata": {},
   "outputs": [],
   "source": [
    "# dataframe is a two dimensional data structure with labels"
   ]
  },
  {
   "cell_type": "code",
   "execution_count": 18,
   "id": "82c3c2ea",
   "metadata": {},
   "outputs": [],
   "source": [
    "# we can use labels to locate data"
   ]
  },
  {
   "cell_type": "code",
   "execution_count": 19,
   "id": "dda48967",
   "metadata": {},
   "outputs": [],
   "source": [
    "# row index (df.index), coulumn index (df.coloumn) with series of data "
   ]
  },
  {
   "cell_type": "code",
   "execution_count": 20,
   "id": "775d6f62",
   "metadata": {},
   "outputs": [],
   "source": [
    "import pandas as pd"
   ]
  },
  {
   "cell_type": "code",
   "execution_count": 22,
   "id": "2f930b89",
   "metadata": {},
   "outputs": [
    {
     "name": "stdout",
     "output_type": "stream",
     "text": [
      "1.4.2\n"
     ]
    }
   ],
   "source": [
    "# check pandas version\n",
    "print(pd.__version__)"
   ]
  },
  {
   "cell_type": "markdown",
   "id": "916c512b",
   "metadata": {},
   "source": [
    "# Series"
   ]
  },
  {
   "cell_type": "code",
   "execution_count": 23,
   "id": "54ee9048",
   "metadata": {},
   "outputs": [],
   "source": [
    "# create, manipulate, query, delete"
   ]
  },
  {
   "cell_type": "code",
   "execution_count": 24,
   "id": "0466e806",
   "metadata": {},
   "outputs": [
    {
     "data": {
      "text/plain": [
       "0    0\n",
       "1    1\n",
       "2    2\n",
       "3    3\n",
       "4    4\n",
       "dtype: int64"
      ]
     },
     "execution_count": 24,
     "metadata": {},
     "output_type": "execute_result"
    }
   ],
   "source": [
    " # creating a series from list\n",
    "arr = [0,1,2,3,4]\n",
    "s1 = pd.Series(arr)\n",
    "s1"
   ]
  },
  {
   "cell_type": "code",
   "execution_count": 26,
   "id": "54b1e2f7",
   "metadata": {},
   "outputs": [
    {
     "data": {
      "text/plain": [
       "1    0\n",
       "2    1\n",
       "3    2\n",
       "4    3\n",
       "5    4\n",
       "dtype: int64"
      ]
     },
     "execution_count": 26,
     "metadata": {},
     "output_type": "execute_result"
    }
   ],
   "source": [
    "order = [1,2,3,4,5]\n",
    "s2 = pd.Series(arr, index= order )\n",
    "s2"
   ]
  },
  {
   "cell_type": "code",
   "execution_count": 29,
   "id": "e85d8b49",
   "metadata": {},
   "outputs": [
    {
     "data": {
      "text/plain": [
       "a    0.935240\n",
       "b   -0.866780\n",
       "c   -2.124368\n",
       "d   -0.080332\n",
       "e    0.205180\n",
       "dtype: float64"
      ]
     },
     "execution_count": 29,
     "metadata": {},
     "output_type": "execute_result"
    }
   ],
   "source": [
    "import numpy as np\n",
    "n = np.random.randn(5) # create a random n dimensional array\n",
    "index = ['a','b','c','d','e']\n",
    "s3 = pd.Series(n, index= index)\n",
    "s3"
   ]
  },
  {
   "cell_type": "code",
   "execution_count": 30,
   "id": "55952a0e",
   "metadata": {},
   "outputs": [
    {
     "data": {
      "text/plain": [
       "a    1\n",
       "b    2\n",
       "c    3\n",
       "d    4\n",
       "e    5\n",
       "dtype: int64"
      ]
     },
     "execution_count": 30,
     "metadata": {},
     "output_type": "execute_result"
    }
   ],
   "source": [
    "# create series from dictionary\n",
    "d = {'a':1,'b':2,'c':3,'d':4,'e':5}\n",
    "s4 = pd.Series(d)\n",
    "s4"
   ]
  },
  {
   "cell_type": "code",
   "execution_count": 32,
   "id": "b70ce13c",
   "metadata": {},
   "outputs": [
    {
     "name": "stdout",
     "output_type": "stream",
     "text": [
      "0    0\n",
      "1    1\n",
      "2    2\n",
      "3    3\n",
      "4    4\n",
      "dtype: int64\n"
     ]
    },
    {
     "data": {
      "text/plain": [
       "A    0\n",
       "B    1\n",
       "C    2\n",
       "D    3\n",
       "E    4\n",
       "dtype: int64"
      ]
     },
     "execution_count": 32,
     "metadata": {},
     "output_type": "execute_result"
    }
   ],
   "source": [
    "# you can modify the index of series\n",
    "print(s1)\n",
    "s1.index = ['A','B','C','D','E']\n",
    "s1"
   ]
  },
  {
   "cell_type": "code",
   "execution_count": 35,
   "id": "d1de9d05",
   "metadata": {},
   "outputs": [
    {
     "data": {
      "text/plain": [
       "A    0\n",
       "B    1\n",
       "C    2\n",
       "dtype: int64"
      ]
     },
     "execution_count": 35,
     "metadata": {},
     "output_type": "execute_result"
    }
   ],
   "source": [
    "# Slicing\n",
    "a = s1[:3]\n",
    "a"
   ]
  },
  {
   "cell_type": "code",
   "execution_count": 36,
   "id": "7319a430",
   "metadata": {},
   "outputs": [
    {
     "data": {
      "text/plain": [
       "A    0\n",
       "B    1\n",
       "C    2\n",
       "dtype: int64"
      ]
     },
     "execution_count": 36,
     "metadata": {},
     "output_type": "execute_result"
    }
   ],
   "source": [
    "b = s1[:-2]\n",
    "b"
   ]
  },
  {
   "cell_type": "code",
   "execution_count": 38,
   "id": "2b93101f",
   "metadata": {},
   "outputs": [
    {
     "name": "stderr",
     "output_type": "stream",
     "text": [
      "C:\\Users\\Dell\\AppData\\Local\\Temp\\ipykernel_12028\\3585235679.py:1: FutureWarning: The series.append method is deprecated and will be removed from pandas in a future version. Use pandas.concat instead.\n",
      "  s4 = s1.append(s3)\n"
     ]
    },
    {
     "data": {
      "text/plain": [
       "A    0.000000\n",
       "B    1.000000\n",
       "C    2.000000\n",
       "D    3.000000\n",
       "E    4.000000\n",
       "a    0.935240\n",
       "b   -0.866780\n",
       "c   -2.124368\n",
       "d   -0.080332\n",
       "e    0.205180\n",
       "dtype: float64"
      ]
     },
     "execution_count": 38,
     "metadata": {},
     "output_type": "execute_result"
    }
   ],
   "source": [
    "s4 = s1.append(s3)\n",
    "s4"
   ]
  },
  {
   "cell_type": "code",
   "execution_count": 43,
   "id": "0dca5c87",
   "metadata": {},
   "outputs": [
    {
     "data": {
      "text/plain": [
       "A    0.000000\n",
       "B    1.000000\n",
       "C    2.000000\n",
       "D    3.000000\n",
       "E    4.000000\n",
       "a    0.935240\n",
       "b   -0.866780\n",
       "c   -2.124368\n",
       "d   -0.080332\n",
       "dtype: float64"
      ]
     },
     "execution_count": 43,
     "metadata": {},
     "output_type": "execute_result"
    }
   ],
   "source": [
    "s5 = s4.drop('e')\n",
    "s5"
   ]
  },
  {
   "cell_type": "markdown",
   "id": "f55c53bc",
   "metadata": {},
   "source": [
    "# Series Operations"
   ]
  },
  {
   "cell_type": "code",
   "execution_count": 44,
   "id": "7d2c5455",
   "metadata": {},
   "outputs": [],
   "source": [
    "arr1 = [1,2,3,4,5,7]\n",
    "arr2 = [7,4,6,7]"
   ]
  },
  {
   "cell_type": "code",
   "execution_count": 45,
   "id": "97bb4cba",
   "metadata": {},
   "outputs": [
    {
     "data": {
      "text/plain": [
       "0    1\n",
       "1    2\n",
       "2    3\n",
       "3    4\n",
       "4    5\n",
       "5    7\n",
       "dtype: int64"
      ]
     },
     "execution_count": 45,
     "metadata": {},
     "output_type": "execute_result"
    }
   ],
   "source": [
    "s5 = pd.Series(arr1)\n",
    "s5"
   ]
  },
  {
   "cell_type": "code",
   "execution_count": 46,
   "id": "98de120c",
   "metadata": {},
   "outputs": [
    {
     "data": {
      "text/plain": [
       "0    7\n",
       "1    4\n",
       "2    6\n",
       "3    7\n",
       "dtype: int64"
      ]
     },
     "execution_count": 46,
     "metadata": {},
     "output_type": "execute_result"
    }
   ],
   "source": [
    "s6 = pd.Series(arr2)\n",
    "s6"
   ]
  },
  {
   "cell_type": "code",
   "execution_count": 47,
   "id": "9f913578",
   "metadata": {},
   "outputs": [
    {
     "data": {
      "text/plain": [
       "0     8.0\n",
       "1     6.0\n",
       "2     9.0\n",
       "3    11.0\n",
       "4     NaN\n",
       "5     NaN\n",
       "dtype: float64"
      ]
     },
     "execution_count": 47,
     "metadata": {},
     "output_type": "execute_result"
    }
   ],
   "source": [
    "s5.add(s6)"
   ]
  },
  {
   "cell_type": "code",
   "execution_count": 48,
   "id": "c8fc52ad",
   "metadata": {},
   "outputs": [
    {
     "data": {
      "text/plain": [
       "0   -6.0\n",
       "1   -2.0\n",
       "2   -3.0\n",
       "3   -3.0\n",
       "4    NaN\n",
       "5    NaN\n",
       "dtype: float64"
      ]
     },
     "execution_count": 48,
     "metadata": {},
     "output_type": "execute_result"
    }
   ],
   "source": [
    "s5.sub(s6)"
   ]
  },
  {
   "cell_type": "code",
   "execution_count": 49,
   "id": "672c7f3f",
   "metadata": {},
   "outputs": [
    {
     "data": {
      "text/plain": [
       "0    0.142857\n",
       "1    0.500000\n",
       "2    0.500000\n",
       "3    0.571429\n",
       "4         NaN\n",
       "5         NaN\n",
       "dtype: float64"
      ]
     },
     "execution_count": 49,
     "metadata": {},
     "output_type": "execute_result"
    }
   ],
   "source": [
    "s5.div(s6)"
   ]
  },
  {
   "cell_type": "code",
   "execution_count": 50,
   "id": "142f3eb2",
   "metadata": {},
   "outputs": [
    {
     "name": "stdout",
     "output_type": "stream",
     "text": [
      "median 6.5\n",
      "max 7\n",
      "min 4\n"
     ]
    }
   ],
   "source": [
    "print(\"median\", s6.median())\n",
    "print(\"max\", s6.max())\n",
    "print(\"min\", s6.min())"
   ]
  },
  {
   "cell_type": "markdown",
   "id": "a19e9747",
   "metadata": {},
   "source": [
    "# Pandas DataFrame"
   ]
  },
  {
   "cell_type": "code",
   "execution_count": 59,
   "id": "3fa4fe46",
   "metadata": {},
   "outputs": [
    {
     "name": "stdout",
     "output_type": "stream",
     "text": [
      "[[ 3.20130319e-01 -8.47569151e-01  7.45963265e-01  2.88888851e-01]\n",
      " [-3.11215053e-01  4.95900342e-01  8.69796938e-01  6.12075090e-01]\n",
      " [-7.61830582e-01 -8.03462716e-01  5.85603944e-01  2.60133640e+00]\n",
      " [-1.97211904e+00 -1.10665376e+00  6.29499525e-01  1.20164253e+00]\n",
      " [-1.83064429e-01  4.51636056e-01  1.36440594e+00  1.41024432e+00]\n",
      " [-4.94934667e-04 -1.27022784e-02  1.68094224e+00  9.23995981e-01]]\n"
     ]
    }
   ],
   "source": [
    "dates = pd.date_range('today', periods = 6) # defines time sequence as index\n",
    "num_arr = np.random.randn(6,4) # import numpy random array\n",
    "print(num_arr)\n",
    "columns = ['A','B','C','D']\n"
   ]
  },
  {
   "cell_type": "code",
   "execution_count": 60,
   "id": "5c24b72e",
   "metadata": {},
   "outputs": [
    {
     "data": {
      "text/html": [
       "<div>\n",
       "<style scoped>\n",
       "    .dataframe tbody tr th:only-of-type {\n",
       "        vertical-align: middle;\n",
       "    }\n",
       "\n",
       "    .dataframe tbody tr th {\n",
       "        vertical-align: top;\n",
       "    }\n",
       "\n",
       "    .dataframe thead th {\n",
       "        text-align: right;\n",
       "    }\n",
       "</style>\n",
       "<table border=\"1\" class=\"dataframe\">\n",
       "  <thead>\n",
       "    <tr style=\"text-align: right;\">\n",
       "      <th></th>\n",
       "      <th>A</th>\n",
       "      <th>B</th>\n",
       "      <th>C</th>\n",
       "      <th>D</th>\n",
       "    </tr>\n",
       "  </thead>\n",
       "  <tbody>\n",
       "    <tr>\n",
       "      <th>2022-07-12 13:26:31.157638</th>\n",
       "      <td>0.320130</td>\n",
       "      <td>-0.847569</td>\n",
       "      <td>0.745963</td>\n",
       "      <td>0.288889</td>\n",
       "    </tr>\n",
       "    <tr>\n",
       "      <th>2022-07-13 13:26:31.157638</th>\n",
       "      <td>-0.311215</td>\n",
       "      <td>0.495900</td>\n",
       "      <td>0.869797</td>\n",
       "      <td>0.612075</td>\n",
       "    </tr>\n",
       "    <tr>\n",
       "      <th>2022-07-14 13:26:31.157638</th>\n",
       "      <td>-0.761831</td>\n",
       "      <td>-0.803463</td>\n",
       "      <td>0.585604</td>\n",
       "      <td>2.601336</td>\n",
       "    </tr>\n",
       "    <tr>\n",
       "      <th>2022-07-15 13:26:31.157638</th>\n",
       "      <td>-1.972119</td>\n",
       "      <td>-1.106654</td>\n",
       "      <td>0.629500</td>\n",
       "      <td>1.201643</td>\n",
       "    </tr>\n",
       "    <tr>\n",
       "      <th>2022-07-16 13:26:31.157638</th>\n",
       "      <td>-0.183064</td>\n",
       "      <td>0.451636</td>\n",
       "      <td>1.364406</td>\n",
       "      <td>1.410244</td>\n",
       "    </tr>\n",
       "    <tr>\n",
       "      <th>2022-07-17 13:26:31.157638</th>\n",
       "      <td>-0.000495</td>\n",
       "      <td>-0.012702</td>\n",
       "      <td>1.680942</td>\n",
       "      <td>0.923996</td>\n",
       "    </tr>\n",
       "  </tbody>\n",
       "</table>\n",
       "</div>"
      ],
      "text/plain": [
       "                                   A         B         C         D\n",
       "2022-07-12 13:26:31.157638  0.320130 -0.847569  0.745963  0.288889\n",
       "2022-07-13 13:26:31.157638 -0.311215  0.495900  0.869797  0.612075\n",
       "2022-07-14 13:26:31.157638 -0.761831 -0.803463  0.585604  2.601336\n",
       "2022-07-15 13:26:31.157638 -1.972119 -1.106654  0.629500  1.201643\n",
       "2022-07-16 13:26:31.157638 -0.183064  0.451636  1.364406  1.410244\n",
       "2022-07-17 13:26:31.157638 -0.000495 -0.012702  1.680942  0.923996"
      ]
     },
     "execution_count": 60,
     "metadata": {},
     "output_type": "execute_result"
    }
   ],
   "source": [
    "df1 = pd.DataFrame(num_arr, index= dates, columns=columns)\n",
    "df1"
   ]
  },
  {
   "cell_type": "code",
   "execution_count": 62,
   "id": "978ba7dd",
   "metadata": {},
   "outputs": [
    {
     "data": {
      "text/html": [
       "<div>\n",
       "<style scoped>\n",
       "    .dataframe tbody tr th:only-of-type {\n",
       "        vertical-align: middle;\n",
       "    }\n",
       "\n",
       "    .dataframe tbody tr th {\n",
       "        vertical-align: top;\n",
       "    }\n",
       "\n",
       "    .dataframe thead th {\n",
       "        text-align: right;\n",
       "    }\n",
       "</style>\n",
       "<table border=\"1\" class=\"dataframe\">\n",
       "  <thead>\n",
       "    <tr style=\"text-align: right;\">\n",
       "      <th></th>\n",
       "      <th>animals</th>\n",
       "      <th>age</th>\n",
       "      <th>visits</th>\n",
       "      <th>priorty</th>\n",
       "    </tr>\n",
       "  </thead>\n",
       "  <tbody>\n",
       "    <tr>\n",
       "      <th>a</th>\n",
       "      <td>cat</td>\n",
       "      <td>22</td>\n",
       "      <td>1</td>\n",
       "      <td>yes</td>\n",
       "    </tr>\n",
       "    <tr>\n",
       "      <th>b</th>\n",
       "      <td>dog</td>\n",
       "      <td>22</td>\n",
       "      <td>2</td>\n",
       "      <td>no</td>\n",
       "    </tr>\n",
       "    <tr>\n",
       "      <th>c</th>\n",
       "      <td>tiger</td>\n",
       "      <td>22</td>\n",
       "      <td>3</td>\n",
       "      <td>yes</td>\n",
       "    </tr>\n",
       "    <tr>\n",
       "      <th>d</th>\n",
       "      <td>cat</td>\n",
       "      <td>12</td>\n",
       "      <td>1</td>\n",
       "      <td>no</td>\n",
       "    </tr>\n",
       "    <tr>\n",
       "      <th>e</th>\n",
       "      <td>dog</td>\n",
       "      <td>12</td>\n",
       "      <td>2</td>\n",
       "      <td>yes</td>\n",
       "    </tr>\n",
       "    <tr>\n",
       "      <th>f</th>\n",
       "      <td>tiger</td>\n",
       "      <td>12</td>\n",
       "      <td>3</td>\n",
       "      <td>no</td>\n",
       "    </tr>\n",
       "  </tbody>\n",
       "</table>\n",
       "</div>"
      ],
      "text/plain": [
       "  animals  age  visits priorty\n",
       "a     cat   22       1     yes\n",
       "b     dog   22       2      no\n",
       "c   tiger   22       3     yes\n",
       "d     cat   12       1      no\n",
       "e     dog   12       2     yes\n",
       "f   tiger   12       3      no"
      ]
     },
     "execution_count": 62,
     "metadata": {},
     "output_type": "execute_result"
    }
   ],
   "source": [
    " dic = {\"animals\" : ['cat', 'dog', 'tiger', 'cat', 'dog', 'tiger'], \"age\":[22,22,22,12,12,12],\n",
    "        'visits':[1,2,3,1,2,3], 'priorty':[\"yes\",\"no\",\"yes\",\"no\", \"yes\",\"no\"] }\n",
    "labels = [\"a\",\"b\",\"c\",\"d\",\"e\",\"f\"]\n",
    "df2 = pd.DataFrame(dic, index= labels)\n",
    "df2"
   ]
  },
  {
   "cell_type": "code",
   "execution_count": 63,
   "id": "624ea08a",
   "metadata": {},
   "outputs": [
    {
     "data": {
      "text/plain": [
       "animals    object\n",
       "age         int64\n",
       "visits      int64\n",
       "priorty    object\n",
       "dtype: object"
      ]
     },
     "execution_count": 63,
     "metadata": {},
     "output_type": "execute_result"
    }
   ],
   "source": [
    "# see datatypes of arrays\n",
    "df2.dtypes"
   ]
  },
  {
   "cell_type": "code",
   "execution_count": 64,
   "id": "7d3acc34",
   "metadata": {},
   "outputs": [
    {
     "data": {
      "text/html": [
       "<div>\n",
       "<style scoped>\n",
       "    .dataframe tbody tr th:only-of-type {\n",
       "        vertical-align: middle;\n",
       "    }\n",
       "\n",
       "    .dataframe tbody tr th {\n",
       "        vertical-align: top;\n",
       "    }\n",
       "\n",
       "    .dataframe thead th {\n",
       "        text-align: right;\n",
       "    }\n",
       "</style>\n",
       "<table border=\"1\" class=\"dataframe\">\n",
       "  <thead>\n",
       "    <tr style=\"text-align: right;\">\n",
       "      <th></th>\n",
       "      <th>animals</th>\n",
       "      <th>age</th>\n",
       "      <th>visits</th>\n",
       "      <th>priorty</th>\n",
       "    </tr>\n",
       "  </thead>\n",
       "  <tbody>\n",
       "    <tr>\n",
       "      <th>a</th>\n",
       "      <td>cat</td>\n",
       "      <td>22</td>\n",
       "      <td>1</td>\n",
       "      <td>yes</td>\n",
       "    </tr>\n",
       "    <tr>\n",
       "      <th>b</th>\n",
       "      <td>dog</td>\n",
       "      <td>22</td>\n",
       "      <td>2</td>\n",
       "      <td>no</td>\n",
       "    </tr>\n",
       "    <tr>\n",
       "      <th>c</th>\n",
       "      <td>tiger</td>\n",
       "      <td>22</td>\n",
       "      <td>3</td>\n",
       "      <td>yes</td>\n",
       "    </tr>\n",
       "    <tr>\n",
       "      <th>d</th>\n",
       "      <td>cat</td>\n",
       "      <td>12</td>\n",
       "      <td>1</td>\n",
       "      <td>no</td>\n",
       "    </tr>\n",
       "    <tr>\n",
       "      <th>e</th>\n",
       "      <td>dog</td>\n",
       "      <td>12</td>\n",
       "      <td>2</td>\n",
       "      <td>yes</td>\n",
       "    </tr>\n",
       "  </tbody>\n",
       "</table>\n",
       "</div>"
      ],
      "text/plain": [
       "  animals  age  visits priorty\n",
       "a     cat   22       1     yes\n",
       "b     dog   22       2      no\n",
       "c   tiger   22       3     yes\n",
       "d     cat   12       1      no\n",
       "e     dog   12       2     yes"
      ]
     },
     "execution_count": 64,
     "metadata": {},
     "output_type": "execute_result"
    }
   ],
   "source": [
    "df2.head()"
   ]
  },
  {
   "cell_type": "code",
   "execution_count": 65,
   "id": "3b75256b",
   "metadata": {},
   "outputs": [
    {
     "data": {
      "text/html": [
       "<div>\n",
       "<style scoped>\n",
       "    .dataframe tbody tr th:only-of-type {\n",
       "        vertical-align: middle;\n",
       "    }\n",
       "\n",
       "    .dataframe tbody tr th {\n",
       "        vertical-align: top;\n",
       "    }\n",
       "\n",
       "    .dataframe thead th {\n",
       "        text-align: right;\n",
       "    }\n",
       "</style>\n",
       "<table border=\"1\" class=\"dataframe\">\n",
       "  <thead>\n",
       "    <tr style=\"text-align: right;\">\n",
       "      <th></th>\n",
       "      <th>animals</th>\n",
       "      <th>age</th>\n",
       "      <th>visits</th>\n",
       "      <th>priorty</th>\n",
       "    </tr>\n",
       "  </thead>\n",
       "  <tbody>\n",
       "    <tr>\n",
       "      <th>a</th>\n",
       "      <td>cat</td>\n",
       "      <td>22</td>\n",
       "      <td>1</td>\n",
       "      <td>yes</td>\n",
       "    </tr>\n",
       "    <tr>\n",
       "      <th>b</th>\n",
       "      <td>dog</td>\n",
       "      <td>22</td>\n",
       "      <td>2</td>\n",
       "      <td>no</td>\n",
       "    </tr>\n",
       "  </tbody>\n",
       "</table>\n",
       "</div>"
      ],
      "text/plain": [
       "  animals  age  visits priorty\n",
       "a     cat   22       1     yes\n",
       "b     dog   22       2      no"
      ]
     },
     "execution_count": 65,
     "metadata": {},
     "output_type": "execute_result"
    }
   ],
   "source": [
    "df2.head(2)"
   ]
  },
  {
   "cell_type": "code",
   "execution_count": 66,
   "id": "97802450",
   "metadata": {},
   "outputs": [
    {
     "data": {
      "text/html": [
       "<div>\n",
       "<style scoped>\n",
       "    .dataframe tbody tr th:only-of-type {\n",
       "        vertical-align: middle;\n",
       "    }\n",
       "\n",
       "    .dataframe tbody tr th {\n",
       "        vertical-align: top;\n",
       "    }\n",
       "\n",
       "    .dataframe thead th {\n",
       "        text-align: right;\n",
       "    }\n",
       "</style>\n",
       "<table border=\"1\" class=\"dataframe\">\n",
       "  <thead>\n",
       "    <tr style=\"text-align: right;\">\n",
       "      <th></th>\n",
       "      <th>animals</th>\n",
       "      <th>age</th>\n",
       "      <th>visits</th>\n",
       "      <th>priorty</th>\n",
       "    </tr>\n",
       "  </thead>\n",
       "  <tbody>\n",
       "    <tr>\n",
       "      <th>a</th>\n",
       "      <td>cat</td>\n",
       "      <td>22</td>\n",
       "      <td>1</td>\n",
       "      <td>yes</td>\n",
       "    </tr>\n",
       "    <tr>\n",
       "      <th>b</th>\n",
       "      <td>dog</td>\n",
       "      <td>22</td>\n",
       "      <td>2</td>\n",
       "      <td>no</td>\n",
       "    </tr>\n",
       "    <tr>\n",
       "      <th>c</th>\n",
       "      <td>tiger</td>\n",
       "      <td>22</td>\n",
       "      <td>3</td>\n",
       "      <td>yes</td>\n",
       "    </tr>\n",
       "    <tr>\n",
       "      <th>d</th>\n",
       "      <td>cat</td>\n",
       "      <td>12</td>\n",
       "      <td>1</td>\n",
       "      <td>no</td>\n",
       "    </tr>\n",
       "  </tbody>\n",
       "</table>\n",
       "</div>"
      ],
      "text/plain": [
       "  animals  age  visits priorty\n",
       "a     cat   22       1     yes\n",
       "b     dog   22       2      no\n",
       "c   tiger   22       3     yes\n",
       "d     cat   12       1      no"
      ]
     },
     "execution_count": 66,
     "metadata": {},
     "output_type": "execute_result"
    }
   ],
   "source": [
    "df3 = df2.head(4)\n",
    "df3"
   ]
  },
  {
   "cell_type": "code",
   "execution_count": 69,
   "id": "1dc6a759",
   "metadata": {},
   "outputs": [
    {
     "data": {
      "text/html": [
       "<div>\n",
       "<style scoped>\n",
       "    .dataframe tbody tr th:only-of-type {\n",
       "        vertical-align: middle;\n",
       "    }\n",
       "\n",
       "    .dataframe tbody tr th {\n",
       "        vertical-align: top;\n",
       "    }\n",
       "\n",
       "    .dataframe thead th {\n",
       "        text-align: right;\n",
       "    }\n",
       "</style>\n",
       "<table border=\"1\" class=\"dataframe\">\n",
       "  <thead>\n",
       "    <tr style=\"text-align: right;\">\n",
       "      <th></th>\n",
       "      <th>animals</th>\n",
       "      <th>age</th>\n",
       "      <th>visits</th>\n",
       "      <th>priorty</th>\n",
       "    </tr>\n",
       "  </thead>\n",
       "  <tbody>\n",
       "    <tr>\n",
       "      <th>e</th>\n",
       "      <td>dog</td>\n",
       "      <td>12</td>\n",
       "      <td>2</td>\n",
       "      <td>yes</td>\n",
       "    </tr>\n",
       "    <tr>\n",
       "      <th>f</th>\n",
       "      <td>tiger</td>\n",
       "      <td>12</td>\n",
       "      <td>3</td>\n",
       "      <td>no</td>\n",
       "    </tr>\n",
       "  </tbody>\n",
       "</table>\n",
       "</div>"
      ],
      "text/plain": [
       "  animals  age  visits priorty\n",
       "e     dog   12       2     yes\n",
       "f   tiger   12       3      no"
      ]
     },
     "execution_count": 69,
     "metadata": {},
     "output_type": "execute_result"
    }
   ],
   "source": [
    "df2.tail(2)"
   ]
  },
  {
   "cell_type": "code",
   "execution_count": 68,
   "id": "a0db4c7b",
   "metadata": {},
   "outputs": [
    {
     "data": {
      "text/html": [
       "<div>\n",
       "<style scoped>\n",
       "    .dataframe tbody tr th:only-of-type {\n",
       "        vertical-align: middle;\n",
       "    }\n",
       "\n",
       "    .dataframe tbody tr th {\n",
       "        vertical-align: top;\n",
       "    }\n",
       "\n",
       "    .dataframe thead th {\n",
       "        text-align: right;\n",
       "    }\n",
       "</style>\n",
       "<table border=\"1\" class=\"dataframe\">\n",
       "  <thead>\n",
       "    <tr style=\"text-align: right;\">\n",
       "      <th></th>\n",
       "      <th>animals</th>\n",
       "      <th>age</th>\n",
       "      <th>visits</th>\n",
       "      <th>priorty</th>\n",
       "    </tr>\n",
       "  </thead>\n",
       "  <tbody>\n",
       "    <tr>\n",
       "      <th>a</th>\n",
       "      <td>cat</td>\n",
       "      <td>22</td>\n",
       "      <td>1</td>\n",
       "      <td>yes</td>\n",
       "    </tr>\n",
       "    <tr>\n",
       "      <th>b</th>\n",
       "      <td>dog</td>\n",
       "      <td>22</td>\n",
       "      <td>2</td>\n",
       "      <td>no</td>\n",
       "    </tr>\n",
       "    <tr>\n",
       "      <th>c</th>\n",
       "      <td>tiger</td>\n",
       "      <td>22</td>\n",
       "      <td>3</td>\n",
       "      <td>yes</td>\n",
       "    </tr>\n",
       "    <tr>\n",
       "      <th>d</th>\n",
       "      <td>cat</td>\n",
       "      <td>12</td>\n",
       "      <td>1</td>\n",
       "      <td>no</td>\n",
       "    </tr>\n",
       "  </tbody>\n",
       "</table>\n",
       "</div>"
      ],
      "text/plain": [
       "  animals  age  visits priorty\n",
       "a     cat   22       1     yes\n",
       "b     dog   22       2      no\n",
       "c   tiger   22       3     yes\n",
       "d     cat   12       1      no"
      ]
     },
     "execution_count": 68,
     "metadata": {},
     "output_type": "execute_result"
    }
   ],
   "source": [
    "df3.tail()"
   ]
  },
  {
   "cell_type": "code",
   "execution_count": 70,
   "id": "3a9c7420",
   "metadata": {},
   "outputs": [
    {
     "data": {
      "text/plain": [
       "Index(['a', 'b', 'c', 'd', 'e', 'f'], dtype='object')"
      ]
     },
     "execution_count": 70,
     "metadata": {},
     "output_type": "execute_result"
    }
   ],
   "source": [
    "df2.index"
   ]
  },
  {
   "cell_type": "code",
   "execution_count": 71,
   "id": "28e82b30",
   "metadata": {},
   "outputs": [
    {
     "name": "stdout",
     "output_type": "stream",
     "text": [
      "Index(['a', 'b', 'c', 'd', 'e', 'f'], dtype='object')\n"
     ]
    },
    {
     "data": {
      "text/plain": [
       "Index(['animals', 'age', 'visits', 'priorty'], dtype='object')"
      ]
     },
     "execution_count": 71,
     "metadata": {},
     "output_type": "execute_result"
    }
   ],
   "source": [
    "print(df2.index)\n",
    "df2.columns"
   ]
  },
  {
   "cell_type": "code",
   "execution_count": 72,
   "id": "b77ff546",
   "metadata": {},
   "outputs": [
    {
     "data": {
      "text/plain": [
       "array([['cat', 22, 1, 'yes'],\n",
       "       ['dog', 22, 2, 'no'],\n",
       "       ['tiger', 22, 3, 'yes'],\n",
       "       ['cat', 12, 1, 'no'],\n",
       "       ['dog', 12, 2, 'yes'],\n",
       "       ['tiger', 12, 3, 'no']], dtype=object)"
      ]
     },
     "execution_count": 72,
     "metadata": {},
     "output_type": "execute_result"
    }
   ],
   "source": [
    "df2.values"
   ]
  },
  {
   "cell_type": "code",
   "execution_count": 73,
   "id": "9174407d",
   "metadata": {},
   "outputs": [
    {
     "data": {
      "text/html": [
       "<div>\n",
       "<style scoped>\n",
       "    .dataframe tbody tr th:only-of-type {\n",
       "        vertical-align: middle;\n",
       "    }\n",
       "\n",
       "    .dataframe tbody tr th {\n",
       "        vertical-align: top;\n",
       "    }\n",
       "\n",
       "    .dataframe thead th {\n",
       "        text-align: right;\n",
       "    }\n",
       "</style>\n",
       "<table border=\"1\" class=\"dataframe\">\n",
       "  <thead>\n",
       "    <tr style=\"text-align: right;\">\n",
       "      <th></th>\n",
       "      <th>age</th>\n",
       "      <th>visits</th>\n",
       "    </tr>\n",
       "  </thead>\n",
       "  <tbody>\n",
       "    <tr>\n",
       "      <th>count</th>\n",
       "      <td>6.000000</td>\n",
       "      <td>6.000000</td>\n",
       "    </tr>\n",
       "    <tr>\n",
       "      <th>mean</th>\n",
       "      <td>17.000000</td>\n",
       "      <td>2.000000</td>\n",
       "    </tr>\n",
       "    <tr>\n",
       "      <th>std</th>\n",
       "      <td>5.477226</td>\n",
       "      <td>0.894427</td>\n",
       "    </tr>\n",
       "    <tr>\n",
       "      <th>min</th>\n",
       "      <td>12.000000</td>\n",
       "      <td>1.000000</td>\n",
       "    </tr>\n",
       "    <tr>\n",
       "      <th>25%</th>\n",
       "      <td>12.000000</td>\n",
       "      <td>1.250000</td>\n",
       "    </tr>\n",
       "    <tr>\n",
       "      <th>50%</th>\n",
       "      <td>17.000000</td>\n",
       "      <td>2.000000</td>\n",
       "    </tr>\n",
       "    <tr>\n",
       "      <th>75%</th>\n",
       "      <td>22.000000</td>\n",
       "      <td>2.750000</td>\n",
       "    </tr>\n",
       "    <tr>\n",
       "      <th>max</th>\n",
       "      <td>22.000000</td>\n",
       "      <td>3.000000</td>\n",
       "    </tr>\n",
       "  </tbody>\n",
       "</table>\n",
       "</div>"
      ],
      "text/plain": [
       "             age    visits\n",
       "count   6.000000  6.000000\n",
       "mean   17.000000  2.000000\n",
       "std     5.477226  0.894427\n",
       "min    12.000000  1.000000\n",
       "25%    12.000000  1.250000\n",
       "50%    17.000000  2.000000\n",
       "75%    22.000000  2.750000\n",
       "max    22.000000  3.000000"
      ]
     },
     "execution_count": 73,
     "metadata": {},
     "output_type": "execute_result"
    }
   ],
   "source": [
    "df2.describe() # see statistical data of dataframe"
   ]
  },
  {
   "cell_type": "code",
   "execution_count": 74,
   "id": "1ef8a415",
   "metadata": {},
   "outputs": [
    {
     "data": {
      "text/html": [
       "<div>\n",
       "<style scoped>\n",
       "    .dataframe tbody tr th:only-of-type {\n",
       "        vertical-align: middle;\n",
       "    }\n",
       "\n",
       "    .dataframe tbody tr th {\n",
       "        vertical-align: top;\n",
       "    }\n",
       "\n",
       "    .dataframe thead th {\n",
       "        text-align: right;\n",
       "    }\n",
       "</style>\n",
       "<table border=\"1\" class=\"dataframe\">\n",
       "  <thead>\n",
       "    <tr style=\"text-align: right;\">\n",
       "      <th></th>\n",
       "      <th>a</th>\n",
       "      <th>b</th>\n",
       "      <th>c</th>\n",
       "      <th>d</th>\n",
       "      <th>e</th>\n",
       "      <th>f</th>\n",
       "    </tr>\n",
       "  </thead>\n",
       "  <tbody>\n",
       "    <tr>\n",
       "      <th>animals</th>\n",
       "      <td>cat</td>\n",
       "      <td>dog</td>\n",
       "      <td>tiger</td>\n",
       "      <td>cat</td>\n",
       "      <td>dog</td>\n",
       "      <td>tiger</td>\n",
       "    </tr>\n",
       "    <tr>\n",
       "      <th>age</th>\n",
       "      <td>22</td>\n",
       "      <td>22</td>\n",
       "      <td>22</td>\n",
       "      <td>12</td>\n",
       "      <td>12</td>\n",
       "      <td>12</td>\n",
       "    </tr>\n",
       "    <tr>\n",
       "      <th>visits</th>\n",
       "      <td>1</td>\n",
       "      <td>2</td>\n",
       "      <td>3</td>\n",
       "      <td>1</td>\n",
       "      <td>2</td>\n",
       "      <td>3</td>\n",
       "    </tr>\n",
       "    <tr>\n",
       "      <th>priorty</th>\n",
       "      <td>yes</td>\n",
       "      <td>no</td>\n",
       "      <td>yes</td>\n",
       "      <td>no</td>\n",
       "      <td>yes</td>\n",
       "      <td>no</td>\n",
       "    </tr>\n",
       "  </tbody>\n",
       "</table>\n",
       "</div>"
      ],
      "text/plain": [
       "           a    b      c    d    e      f\n",
       "animals  cat  dog  tiger  cat  dog  tiger\n",
       "age       22   22     22   12   12     12\n",
       "visits     1    2      3    1    2      3\n",
       "priorty  yes   no    yes   no  yes     no"
      ]
     },
     "execution_count": 74,
     "metadata": {},
     "output_type": "execute_result"
    }
   ],
   "source": [
    "df2.T # transpose"
   ]
  },
  {
   "cell_type": "code",
   "execution_count": 75,
   "id": "53d339a9",
   "metadata": {},
   "outputs": [
    {
     "data": {
      "text/html": [
       "<div>\n",
       "<style scoped>\n",
       "    .dataframe tbody tr th:only-of-type {\n",
       "        vertical-align: middle;\n",
       "    }\n",
       "\n",
       "    .dataframe tbody tr th {\n",
       "        vertical-align: top;\n",
       "    }\n",
       "\n",
       "    .dataframe thead th {\n",
       "        text-align: right;\n",
       "    }\n",
       "</style>\n",
       "<table border=\"1\" class=\"dataframe\">\n",
       "  <thead>\n",
       "    <tr style=\"text-align: right;\">\n",
       "      <th></th>\n",
       "      <th>animals</th>\n",
       "      <th>age</th>\n",
       "      <th>visits</th>\n",
       "      <th>priorty</th>\n",
       "    </tr>\n",
       "  </thead>\n",
       "  <tbody>\n",
       "    <tr>\n",
       "      <th>d</th>\n",
       "      <td>cat</td>\n",
       "      <td>12</td>\n",
       "      <td>1</td>\n",
       "      <td>no</td>\n",
       "    </tr>\n",
       "    <tr>\n",
       "      <th>e</th>\n",
       "      <td>dog</td>\n",
       "      <td>12</td>\n",
       "      <td>2</td>\n",
       "      <td>yes</td>\n",
       "    </tr>\n",
       "    <tr>\n",
       "      <th>f</th>\n",
       "      <td>tiger</td>\n",
       "      <td>12</td>\n",
       "      <td>3</td>\n",
       "      <td>no</td>\n",
       "    </tr>\n",
       "    <tr>\n",
       "      <th>a</th>\n",
       "      <td>cat</td>\n",
       "      <td>22</td>\n",
       "      <td>1</td>\n",
       "      <td>yes</td>\n",
       "    </tr>\n",
       "    <tr>\n",
       "      <th>b</th>\n",
       "      <td>dog</td>\n",
       "      <td>22</td>\n",
       "      <td>2</td>\n",
       "      <td>no</td>\n",
       "    </tr>\n",
       "    <tr>\n",
       "      <th>c</th>\n",
       "      <td>tiger</td>\n",
       "      <td>22</td>\n",
       "      <td>3</td>\n",
       "      <td>yes</td>\n",
       "    </tr>\n",
       "  </tbody>\n",
       "</table>\n",
       "</div>"
      ],
      "text/plain": [
       "  animals  age  visits priorty\n",
       "d     cat   12       1      no\n",
       "e     dog   12       2     yes\n",
       "f   tiger   12       3      no\n",
       "a     cat   22       1     yes\n",
       "b     dog   22       2      no\n",
       "c   tiger   22       3     yes"
      ]
     },
     "execution_count": 75,
     "metadata": {},
     "output_type": "execute_result"
    }
   ],
   "source": [
    "df2.sort_values(by= 'age')"
   ]
  },
  {
   "cell_type": "code",
   "execution_count": 76,
   "id": "c630eede",
   "metadata": {},
   "outputs": [],
   "source": [
    "#Slicing DataFrame"
   ]
  },
  {
   "cell_type": "code",
   "execution_count": 78,
   "id": "35265433",
   "metadata": {},
   "outputs": [
    {
     "data": {
      "text/html": [
       "<div>\n",
       "<style scoped>\n",
       "    .dataframe tbody tr th:only-of-type {\n",
       "        vertical-align: middle;\n",
       "    }\n",
       "\n",
       "    .dataframe tbody tr th {\n",
       "        vertical-align: top;\n",
       "    }\n",
       "\n",
       "    .dataframe thead th {\n",
       "        text-align: right;\n",
       "    }\n",
       "</style>\n",
       "<table border=\"1\" class=\"dataframe\">\n",
       "  <thead>\n",
       "    <tr style=\"text-align: right;\">\n",
       "      <th></th>\n",
       "      <th>animals</th>\n",
       "      <th>age</th>\n",
       "      <th>visits</th>\n",
       "      <th>priorty</th>\n",
       "    </tr>\n",
       "  </thead>\n",
       "  <tbody>\n",
       "    <tr>\n",
       "      <th>b</th>\n",
       "      <td>dog</td>\n",
       "      <td>22</td>\n",
       "      <td>2</td>\n",
       "      <td>no</td>\n",
       "    </tr>\n",
       "    <tr>\n",
       "      <th>c</th>\n",
       "      <td>tiger</td>\n",
       "      <td>22</td>\n",
       "      <td>3</td>\n",
       "      <td>yes</td>\n",
       "    </tr>\n",
       "  </tbody>\n",
       "</table>\n",
       "</div>"
      ],
      "text/plain": [
       "  animals  age  visits priorty\n",
       "b     dog   22       2      no\n",
       "c   tiger   22       3     yes"
      ]
     },
     "execution_count": 78,
     "metadata": {},
     "output_type": "execute_result"
    }
   ],
   "source": [
    "df2[1:3]"
   ]
  },
  {
   "cell_type": "code",
   "execution_count": 79,
   "id": "be9fdf90",
   "metadata": {},
   "outputs": [
    {
     "data": {
      "text/html": [
       "<div>\n",
       "<style scoped>\n",
       "    .dataframe tbody tr th:only-of-type {\n",
       "        vertical-align: middle;\n",
       "    }\n",
       "\n",
       "    .dataframe tbody tr th {\n",
       "        vertical-align: top;\n",
       "    }\n",
       "\n",
       "    .dataframe thead th {\n",
       "        text-align: right;\n",
       "    }\n",
       "</style>\n",
       "<table border=\"1\" class=\"dataframe\">\n",
       "  <thead>\n",
       "    <tr style=\"text-align: right;\">\n",
       "      <th></th>\n",
       "      <th>animals</th>\n",
       "      <th>age</th>\n",
       "      <th>visits</th>\n",
       "      <th>priorty</th>\n",
       "    </tr>\n",
       "  </thead>\n",
       "  <tbody>\n",
       "    <tr>\n",
       "      <th>e</th>\n",
       "      <td>dog</td>\n",
       "      <td>12</td>\n",
       "      <td>2</td>\n",
       "      <td>yes</td>\n",
       "    </tr>\n",
       "    <tr>\n",
       "      <th>f</th>\n",
       "      <td>tiger</td>\n",
       "      <td>12</td>\n",
       "      <td>3</td>\n",
       "      <td>no</td>\n",
       "    </tr>\n",
       "  </tbody>\n",
       "</table>\n",
       "</div>"
      ],
      "text/plain": [
       "  animals  age  visits priorty\n",
       "e     dog   12       2     yes\n",
       "f   tiger   12       3      no"
      ]
     },
     "execution_count": 79,
     "metadata": {},
     "output_type": "execute_result"
    }
   ],
   "source": [
    "df2.sort_values(by ='age')[1:3]"
   ]
  },
  {
   "cell_type": "code",
   "execution_count": 80,
   "id": "1f11266c",
   "metadata": {},
   "outputs": [],
   "source": [
    "# query datdframe by tag"
   ]
  },
  {
   "cell_type": "code",
   "execution_count": 82,
   "id": "77fd60ed",
   "metadata": {},
   "outputs": [
    {
     "data": {
      "text/html": [
       "<div>\n",
       "<style scoped>\n",
       "    .dataframe tbody tr th:only-of-type {\n",
       "        vertical-align: middle;\n",
       "    }\n",
       "\n",
       "    .dataframe tbody tr th {\n",
       "        vertical-align: top;\n",
       "    }\n",
       "\n",
       "    .dataframe thead th {\n",
       "        text-align: right;\n",
       "    }\n",
       "</style>\n",
       "<table border=\"1\" class=\"dataframe\">\n",
       "  <thead>\n",
       "    <tr style=\"text-align: right;\">\n",
       "      <th></th>\n",
       "      <th>age</th>\n",
       "      <th>visits</th>\n",
       "    </tr>\n",
       "  </thead>\n",
       "  <tbody>\n",
       "    <tr>\n",
       "      <th>a</th>\n",
       "      <td>22</td>\n",
       "      <td>1</td>\n",
       "    </tr>\n",
       "    <tr>\n",
       "      <th>b</th>\n",
       "      <td>22</td>\n",
       "      <td>2</td>\n",
       "    </tr>\n",
       "    <tr>\n",
       "      <th>c</th>\n",
       "      <td>22</td>\n",
       "      <td>3</td>\n",
       "    </tr>\n",
       "    <tr>\n",
       "      <th>d</th>\n",
       "      <td>12</td>\n",
       "      <td>1</td>\n",
       "    </tr>\n",
       "    <tr>\n",
       "      <th>e</th>\n",
       "      <td>12</td>\n",
       "      <td>2</td>\n",
       "    </tr>\n",
       "    <tr>\n",
       "      <th>f</th>\n",
       "      <td>12</td>\n",
       "      <td>3</td>\n",
       "    </tr>\n",
       "  </tbody>\n",
       "</table>\n",
       "</div>"
      ],
      "text/plain": [
       "   age  visits\n",
       "a   22       1\n",
       "b   22       2\n",
       "c   22       3\n",
       "d   12       1\n",
       "e   12       2\n",
       "f   12       3"
      ]
     },
     "execution_count": 82,
     "metadata": {},
     "output_type": "execute_result"
    }
   ],
   "source": [
    "df2[['age','visits']]"
   ]
  },
  {
   "cell_type": "code",
   "execution_count": 83,
   "id": "e4da0637",
   "metadata": {},
   "outputs": [
    {
     "data": {
      "text/html": [
       "<div>\n",
       "<style scoped>\n",
       "    .dataframe tbody tr th:only-of-type {\n",
       "        vertical-align: middle;\n",
       "    }\n",
       "\n",
       "    .dataframe tbody tr th {\n",
       "        vertical-align: top;\n",
       "    }\n",
       "\n",
       "    .dataframe thead th {\n",
       "        text-align: right;\n",
       "    }\n",
       "</style>\n",
       "<table border=\"1\" class=\"dataframe\">\n",
       "  <thead>\n",
       "    <tr style=\"text-align: right;\">\n",
       "      <th></th>\n",
       "      <th>animals</th>\n",
       "      <th>age</th>\n",
       "      <th>visits</th>\n",
       "      <th>priorty</th>\n",
       "    </tr>\n",
       "  </thead>\n",
       "  <tbody>\n",
       "    <tr>\n",
       "      <th>b</th>\n",
       "      <td>dog</td>\n",
       "      <td>22</td>\n",
       "      <td>2</td>\n",
       "      <td>no</td>\n",
       "    </tr>\n",
       "    <tr>\n",
       "      <th>c</th>\n",
       "      <td>tiger</td>\n",
       "      <td>22</td>\n",
       "      <td>3</td>\n",
       "      <td>yes</td>\n",
       "    </tr>\n",
       "  </tbody>\n",
       "</table>\n",
       "</div>"
      ],
      "text/plain": [
       "  animals  age  visits priorty\n",
       "b     dog   22       2      no\n",
       "c   tiger   22       3     yes"
      ]
     },
     "execution_count": 83,
     "metadata": {},
     "output_type": "execute_result"
    }
   ],
   "source": [
    "df2.iloc[1:3]"
   ]
  },
  {
   "cell_type": "code",
   "execution_count": 84,
   "id": "692e9aa4",
   "metadata": {},
   "outputs": [
    {
     "data": {
      "text/html": [
       "<div>\n",
       "<style scoped>\n",
       "    .dataframe tbody tr th:only-of-type {\n",
       "        vertical-align: middle;\n",
       "    }\n",
       "\n",
       "    .dataframe tbody tr th {\n",
       "        vertical-align: top;\n",
       "    }\n",
       "\n",
       "    .dataframe thead th {\n",
       "        text-align: right;\n",
       "    }\n",
       "</style>\n",
       "<table border=\"1\" class=\"dataframe\">\n",
       "  <thead>\n",
       "    <tr style=\"text-align: right;\">\n",
       "      <th></th>\n",
       "      <th>animals</th>\n",
       "      <th>age</th>\n",
       "      <th>visits</th>\n",
       "      <th>priorty</th>\n",
       "    </tr>\n",
       "  </thead>\n",
       "  <tbody>\n",
       "    <tr>\n",
       "      <th>a</th>\n",
       "      <td>cat</td>\n",
       "      <td>22</td>\n",
       "      <td>1</td>\n",
       "      <td>yes</td>\n",
       "    </tr>\n",
       "    <tr>\n",
       "      <th>b</th>\n",
       "      <td>dog</td>\n",
       "      <td>22</td>\n",
       "      <td>2</td>\n",
       "      <td>no</td>\n",
       "    </tr>\n",
       "    <tr>\n",
       "      <th>c</th>\n",
       "      <td>tiger</td>\n",
       "      <td>22</td>\n",
       "      <td>3</td>\n",
       "      <td>yes</td>\n",
       "    </tr>\n",
       "    <tr>\n",
       "      <th>d</th>\n",
       "      <td>cat</td>\n",
       "      <td>12</td>\n",
       "      <td>1</td>\n",
       "      <td>no</td>\n",
       "    </tr>\n",
       "    <tr>\n",
       "      <th>e</th>\n",
       "      <td>dog</td>\n",
       "      <td>12</td>\n",
       "      <td>2</td>\n",
       "      <td>yes</td>\n",
       "    </tr>\n",
       "    <tr>\n",
       "      <th>f</th>\n",
       "      <td>tiger</td>\n",
       "      <td>12</td>\n",
       "      <td>3</td>\n",
       "      <td>no</td>\n",
       "    </tr>\n",
       "  </tbody>\n",
       "</table>\n",
       "</div>"
      ],
      "text/plain": [
       "  animals  age  visits priorty\n",
       "a     cat   22       1     yes\n",
       "b     dog   22       2      no\n",
       "c   tiger   22       3     yes\n",
       "d     cat   12       1      no\n",
       "e     dog   12       2     yes\n",
       "f   tiger   12       3      no"
      ]
     },
     "execution_count": 84,
     "metadata": {},
     "output_type": "execute_result"
    }
   ],
   "source": [
    "df3 = df2.copy()\n",
    "df3"
   ]
  },
  {
   "cell_type": "code",
   "execution_count": 85,
   "id": "c18ea3fc",
   "metadata": {},
   "outputs": [
    {
     "data": {
      "text/html": [
       "<div>\n",
       "<style scoped>\n",
       "    .dataframe tbody tr th:only-of-type {\n",
       "        vertical-align: middle;\n",
       "    }\n",
       "\n",
       "    .dataframe tbody tr th {\n",
       "        vertical-align: top;\n",
       "    }\n",
       "\n",
       "    .dataframe thead th {\n",
       "        text-align: right;\n",
       "    }\n",
       "</style>\n",
       "<table border=\"1\" class=\"dataframe\">\n",
       "  <thead>\n",
       "    <tr style=\"text-align: right;\">\n",
       "      <th></th>\n",
       "      <th>animals</th>\n",
       "      <th>age</th>\n",
       "      <th>visits</th>\n",
       "      <th>priorty</th>\n",
       "    </tr>\n",
       "  </thead>\n",
       "  <tbody>\n",
       "    <tr>\n",
       "      <th>a</th>\n",
       "      <td>False</td>\n",
       "      <td>False</td>\n",
       "      <td>False</td>\n",
       "      <td>False</td>\n",
       "    </tr>\n",
       "    <tr>\n",
       "      <th>b</th>\n",
       "      <td>False</td>\n",
       "      <td>False</td>\n",
       "      <td>False</td>\n",
       "      <td>False</td>\n",
       "    </tr>\n",
       "    <tr>\n",
       "      <th>c</th>\n",
       "      <td>False</td>\n",
       "      <td>False</td>\n",
       "      <td>False</td>\n",
       "      <td>False</td>\n",
       "    </tr>\n",
       "    <tr>\n",
       "      <th>d</th>\n",
       "      <td>False</td>\n",
       "      <td>False</td>\n",
       "      <td>False</td>\n",
       "      <td>False</td>\n",
       "    </tr>\n",
       "    <tr>\n",
       "      <th>e</th>\n",
       "      <td>False</td>\n",
       "      <td>False</td>\n",
       "      <td>False</td>\n",
       "      <td>False</td>\n",
       "    </tr>\n",
       "    <tr>\n",
       "      <th>f</th>\n",
       "      <td>False</td>\n",
       "      <td>False</td>\n",
       "      <td>False</td>\n",
       "      <td>False</td>\n",
       "    </tr>\n",
       "  </tbody>\n",
       "</table>\n",
       "</div>"
      ],
      "text/plain": [
       "   animals    age  visits  priorty\n",
       "a    False  False   False    False\n",
       "b    False  False   False    False\n",
       "c    False  False   False    False\n",
       "d    False  False   False    False\n",
       "e    False  False   False    False\n",
       "f    False  False   False    False"
      ]
     },
     "execution_count": 85,
     "metadata": {},
     "output_type": "execute_result"
    }
   ],
   "source": [
    "df3.isnull()"
   ]
  },
  {
   "cell_type": "code",
   "execution_count": 87,
   "id": "19a60646",
   "metadata": {},
   "outputs": [
    {
     "data": {
      "text/html": [
       "<div>\n",
       "<style scoped>\n",
       "    .dataframe tbody tr th:only-of-type {\n",
       "        vertical-align: middle;\n",
       "    }\n",
       "\n",
       "    .dataframe tbody tr th {\n",
       "        vertical-align: top;\n",
       "    }\n",
       "\n",
       "    .dataframe thead th {\n",
       "        text-align: right;\n",
       "    }\n",
       "</style>\n",
       "<table border=\"1\" class=\"dataframe\">\n",
       "  <thead>\n",
       "    <tr style=\"text-align: right;\">\n",
       "      <th></th>\n",
       "      <th>animals</th>\n",
       "      <th>age</th>\n",
       "      <th>visits</th>\n",
       "      <th>priorty</th>\n",
       "    </tr>\n",
       "  </thead>\n",
       "  <tbody>\n",
       "    <tr>\n",
       "      <th>a</th>\n",
       "      <td>cat</td>\n",
       "      <td>22.0</td>\n",
       "      <td>1</td>\n",
       "      <td>yes</td>\n",
       "    </tr>\n",
       "    <tr>\n",
       "      <th>b</th>\n",
       "      <td>dog</td>\n",
       "      <td>22.0</td>\n",
       "      <td>2</td>\n",
       "      <td>no</td>\n",
       "    </tr>\n",
       "    <tr>\n",
       "      <th>c</th>\n",
       "      <td>tiger</td>\n",
       "      <td>22.0</td>\n",
       "      <td>3</td>\n",
       "      <td>yes</td>\n",
       "    </tr>\n",
       "    <tr>\n",
       "      <th>d</th>\n",
       "      <td>cat</td>\n",
       "      <td>12.0</td>\n",
       "      <td>1</td>\n",
       "      <td>no</td>\n",
       "    </tr>\n",
       "    <tr>\n",
       "      <th>e</th>\n",
       "      <td>dog</td>\n",
       "      <td>12.0</td>\n",
       "      <td>2</td>\n",
       "      <td>yes</td>\n",
       "    </tr>\n",
       "    <tr>\n",
       "      <th>f</th>\n",
       "      <td>tiger</td>\n",
       "      <td>1.5</td>\n",
       "      <td>3</td>\n",
       "      <td>no</td>\n",
       "    </tr>\n",
       "  </tbody>\n",
       "</table>\n",
       "</div>"
      ],
      "text/plain": [
       "  animals   age  visits priorty\n",
       "a     cat  22.0       1     yes\n",
       "b     dog  22.0       2      no\n",
       "c   tiger  22.0       3     yes\n",
       "d     cat  12.0       1      no\n",
       "e     dog  12.0       2     yes\n",
       "f   tiger   1.5       3      no"
      ]
     },
     "execution_count": 87,
     "metadata": {},
     "output_type": "execute_result"
    }
   ],
   "source": [
    "df3.loc['f','age'] = 1.5\n",
    "df3"
   ]
  },
  {
   "cell_type": "code",
   "execution_count": 88,
   "id": "249aa8d1",
   "metadata": {},
   "outputs": [
    {
     "data": {
      "text/plain": [
       "age    15.25\n",
       "dtype: float64"
      ]
     },
     "execution_count": 88,
     "metadata": {},
     "output_type": "execute_result"
    }
   ],
   "source": [
    "df3[['age']].mean()"
   ]
  },
  {
   "cell_type": "code",
   "execution_count": 89,
   "id": "845a4cbf",
   "metadata": {},
   "outputs": [
    {
     "data": {
      "text/plain": [
       "visits    12\n",
       "dtype: int64"
      ]
     },
     "execution_count": 89,
     "metadata": {},
     "output_type": "execute_result"
    }
   ],
   "source": [
    "df3[['visits']].sum()"
   ]
  },
  {
   "cell_type": "code",
   "execution_count": 90,
   "id": "3a099af8",
   "metadata": {},
   "outputs": [
    {
     "data": {
      "text/plain": [
       "animals    catdogtigercatdogtiger\n",
       "age                          91.5\n",
       "visits                         12\n",
       "priorty           yesnoyesnoyesno\n",
       "dtype: object"
      ]
     },
     "execution_count": 90,
     "metadata": {},
     "output_type": "execute_result"
    }
   ],
   "source": [
    "df3.sum()"
   ]
  },
  {
   "cell_type": "code",
   "execution_count": 91,
   "id": "e7a8ea7f",
   "metadata": {},
   "outputs": [
    {
     "data": {
      "text/plain": [
       "0      A\n",
       "1      B\n",
       "2      C\n",
       "3      D\n",
       "4    NaN\n",
       "5    AAA\n",
       "6     VA\n",
       "7    owl\n",
       "dtype: object"
      ]
     },
     "execution_count": 91,
     "metadata": {},
     "output_type": "execute_result"
    }
   ],
   "source": [
    "string = pd.Series(['A','B','C','D',np.nan,'AAA','VA','owl'])\n",
    "string"
   ]
  },
  {
   "cell_type": "code",
   "execution_count": 93,
   "id": "0c10fd46",
   "metadata": {},
   "outputs": [
    {
     "data": {
      "text/plain": [
       "0      a\n",
       "1      b\n",
       "2      c\n",
       "3      d\n",
       "4    NaN\n",
       "5    aaa\n",
       "6     va\n",
       "7    owl\n",
       "dtype: object"
      ]
     },
     "execution_count": 93,
     "metadata": {},
     "output_type": "execute_result"
    }
   ],
   "source": [
    "string.str.lower()"
   ]
  },
  {
   "cell_type": "code",
   "execution_count": 94,
   "id": "c5cfd750",
   "metadata": {},
   "outputs": [
    {
     "data": {
      "text/plain": [
       "0      A\n",
       "1      B\n",
       "2      C\n",
       "3      D\n",
       "4    NaN\n",
       "5    AAA\n",
       "6     VA\n",
       "7    OWL\n",
       "dtype: object"
      ]
     },
     "execution_count": 94,
     "metadata": {},
     "output_type": "execute_result"
    }
   ],
   "source": [
    "string.str.upper()"
   ]
  },
  {
   "cell_type": "markdown",
   "id": "c444f58f",
   "metadata": {},
   "source": [
    "# operations for dataframes missing values"
   ]
  },
  {
   "cell_type": "code",
   "execution_count": 97,
   "id": "880e6937",
   "metadata": {},
   "outputs": [
    {
     "data": {
      "text/html": [
       "<div>\n",
       "<style scoped>\n",
       "    .dataframe tbody tr th:only-of-type {\n",
       "        vertical-align: middle;\n",
       "    }\n",
       "\n",
       "    .dataframe tbody tr th {\n",
       "        vertical-align: top;\n",
       "    }\n",
       "\n",
       "    .dataframe thead th {\n",
       "        text-align: right;\n",
       "    }\n",
       "</style>\n",
       "<table border=\"1\" class=\"dataframe\">\n",
       "  <thead>\n",
       "    <tr style=\"text-align: right;\">\n",
       "      <th></th>\n",
       "      <th>animals</th>\n",
       "      <th>age</th>\n",
       "      <th>visits</th>\n",
       "      <th>priorty</th>\n",
       "    </tr>\n",
       "  </thead>\n",
       "  <tbody>\n",
       "    <tr>\n",
       "      <th>a</th>\n",
       "      <td>cat</td>\n",
       "      <td>22.0</td>\n",
       "      <td>1</td>\n",
       "      <td>yes</td>\n",
       "    </tr>\n",
       "    <tr>\n",
       "      <th>b</th>\n",
       "      <td>dog</td>\n",
       "      <td>22.0</td>\n",
       "      <td>2</td>\n",
       "      <td>no</td>\n",
       "    </tr>\n",
       "    <tr>\n",
       "      <th>c</th>\n",
       "      <td>tiger</td>\n",
       "      <td>22.0</td>\n",
       "      <td>3</td>\n",
       "      <td>yes</td>\n",
       "    </tr>\n",
       "    <tr>\n",
       "      <th>d</th>\n",
       "      <td>cat</td>\n",
       "      <td>12.0</td>\n",
       "      <td>1</td>\n",
       "      <td>no</td>\n",
       "    </tr>\n",
       "    <tr>\n",
       "      <th>e</th>\n",
       "      <td>dog</td>\n",
       "      <td>12.0</td>\n",
       "      <td>2</td>\n",
       "      <td>yes</td>\n",
       "    </tr>\n",
       "    <tr>\n",
       "      <th>f</th>\n",
       "      <td>tiger</td>\n",
       "      <td>1.5</td>\n",
       "      <td>3</td>\n",
       "      <td>no</td>\n",
       "    </tr>\n",
       "  </tbody>\n",
       "</table>\n",
       "</div>"
      ],
      "text/plain": [
       "  animals   age  visits priorty\n",
       "a     cat  22.0       1     yes\n",
       "b     dog  22.0       2      no\n",
       "c   tiger  22.0       3     yes\n",
       "d     cat  12.0       1      no\n",
       "e     dog  12.0       2     yes\n",
       "f   tiger   1.5       3      no"
      ]
     },
     "execution_count": 97,
     "metadata": {},
     "output_type": "execute_result"
    }
   ],
   "source": [
    "df4 = df3.copy()\n",
    "df4"
   ]
  },
  {
   "cell_type": "code",
   "execution_count": 99,
   "id": "6dfe341d",
   "metadata": {},
   "outputs": [
    {
     "data": {
      "text/html": [
       "<div>\n",
       "<style scoped>\n",
       "    .dataframe tbody tr th:only-of-type {\n",
       "        vertical-align: middle;\n",
       "    }\n",
       "\n",
       "    .dataframe tbody tr th {\n",
       "        vertical-align: top;\n",
       "    }\n",
       "\n",
       "    .dataframe thead th {\n",
       "        text-align: right;\n",
       "    }\n",
       "</style>\n",
       "<table border=\"1\" class=\"dataframe\">\n",
       "  <thead>\n",
       "    <tr style=\"text-align: right;\">\n",
       "      <th></th>\n",
       "      <th>animals</th>\n",
       "      <th>age</th>\n",
       "      <th>visits</th>\n",
       "      <th>priorty</th>\n",
       "    </tr>\n",
       "  </thead>\n",
       "  <tbody>\n",
       "    <tr>\n",
       "      <th>a</th>\n",
       "      <td>cat</td>\n",
       "      <td>22.0</td>\n",
       "      <td>1</td>\n",
       "      <td>yes</td>\n",
       "    </tr>\n",
       "    <tr>\n",
       "      <th>b</th>\n",
       "      <td>dog</td>\n",
       "      <td>22.0</td>\n",
       "      <td>2</td>\n",
       "      <td>no</td>\n",
       "    </tr>\n",
       "    <tr>\n",
       "      <th>c</th>\n",
       "      <td>tiger</td>\n",
       "      <td>22.0</td>\n",
       "      <td>3</td>\n",
       "      <td>yes</td>\n",
       "    </tr>\n",
       "    <tr>\n",
       "      <th>d</th>\n",
       "      <td>cat</td>\n",
       "      <td>12.0</td>\n",
       "      <td>1</td>\n",
       "      <td>no</td>\n",
       "    </tr>\n",
       "    <tr>\n",
       "      <th>e</th>\n",
       "      <td>dog</td>\n",
       "      <td>12.0</td>\n",
       "      <td>2</td>\n",
       "      <td>yes</td>\n",
       "    </tr>\n",
       "    <tr>\n",
       "      <th>f</th>\n",
       "      <td>tiger</td>\n",
       "      <td>1.5</td>\n",
       "      <td>3</td>\n",
       "      <td>no</td>\n",
       "    </tr>\n",
       "  </tbody>\n",
       "</table>\n",
       "</div>"
      ],
      "text/plain": [
       "  animals   age  visits priorty\n",
       "a     cat  22.0       1     yes\n",
       "b     dog  22.0       2      no\n",
       "c   tiger  22.0       3     yes\n",
       "d     cat  12.0       1      no\n",
       "e     dog  12.0       2     yes\n",
       "f   tiger   1.5       3      no"
      ]
     },
     "execution_count": 99,
     "metadata": {},
     "output_type": "execute_result"
    }
   ],
   "source": [
    "df4.fillna(4)"
   ]
  },
  {
   "cell_type": "code",
   "execution_count": 103,
   "id": "02c679ba",
   "metadata": {},
   "outputs": [],
   "source": [
    "df4['d','age'] = np.nan"
   ]
  },
  {
   "cell_type": "code",
   "execution_count": 101,
   "id": "f54c9193",
   "metadata": {},
   "outputs": [
    {
     "data": {
      "text/html": [
       "<div>\n",
       "<style scoped>\n",
       "    .dataframe tbody tr th:only-of-type {\n",
       "        vertical-align: middle;\n",
       "    }\n",
       "\n",
       "    .dataframe tbody tr th {\n",
       "        vertical-align: top;\n",
       "    }\n",
       "\n",
       "    .dataframe thead th {\n",
       "        text-align: right;\n",
       "    }\n",
       "</style>\n",
       "<table border=\"1\" class=\"dataframe\">\n",
       "  <thead>\n",
       "    <tr style=\"text-align: right;\">\n",
       "      <th></th>\n",
       "      <th>animals</th>\n",
       "      <th>age</th>\n",
       "      <th>visits</th>\n",
       "      <th>priorty</th>\n",
       "      <th>(d, age)</th>\n",
       "    </tr>\n",
       "  </thead>\n",
       "  <tbody>\n",
       "    <tr>\n",
       "      <th>a</th>\n",
       "      <td>cat</td>\n",
       "      <td>22.0</td>\n",
       "      <td>1</td>\n",
       "      <td>yes</td>\n",
       "      <td>NaN</td>\n",
       "    </tr>\n",
       "    <tr>\n",
       "      <th>b</th>\n",
       "      <td>dog</td>\n",
       "      <td>22.0</td>\n",
       "      <td>2</td>\n",
       "      <td>no</td>\n",
       "      <td>NaN</td>\n",
       "    </tr>\n",
       "    <tr>\n",
       "      <th>c</th>\n",
       "      <td>tiger</td>\n",
       "      <td>22.0</td>\n",
       "      <td>3</td>\n",
       "      <td>yes</td>\n",
       "      <td>NaN</td>\n",
       "    </tr>\n",
       "    <tr>\n",
       "      <th>d</th>\n",
       "      <td>cat</td>\n",
       "      <td>12.0</td>\n",
       "      <td>1</td>\n",
       "      <td>no</td>\n",
       "      <td>NaN</td>\n",
       "    </tr>\n",
       "    <tr>\n",
       "      <th>e</th>\n",
       "      <td>dog</td>\n",
       "      <td>12.0</td>\n",
       "      <td>2</td>\n",
       "      <td>yes</td>\n",
       "      <td>NaN</td>\n",
       "    </tr>\n",
       "    <tr>\n",
       "      <th>f</th>\n",
       "      <td>tiger</td>\n",
       "      <td>1.5</td>\n",
       "      <td>3</td>\n",
       "      <td>no</td>\n",
       "      <td>NaN</td>\n",
       "    </tr>\n",
       "  </tbody>\n",
       "</table>\n",
       "</div>"
      ],
      "text/plain": [
       "  animals   age  visits priorty  (d, age)\n",
       "a     cat  22.0       1     yes       NaN\n",
       "b     dog  22.0       2      no       NaN\n",
       "c   tiger  22.0       3     yes       NaN\n",
       "d     cat  12.0       1      no       NaN\n",
       "e     dog  12.0       2     yes       NaN\n",
       "f   tiger   1.5       3      no       NaN"
      ]
     },
     "execution_count": 101,
     "metadata": {},
     "output_type": "execute_result"
    }
   ],
   "source": [
    "df4"
   ]
  },
  {
   "cell_type": "code",
   "execution_count": 104,
   "id": "76c92ef9",
   "metadata": {},
   "outputs": [
    {
     "data": {
      "text/html": [
       "<div>\n",
       "<style scoped>\n",
       "    .dataframe tbody tr th:only-of-type {\n",
       "        vertical-align: middle;\n",
       "    }\n",
       "\n",
       "    .dataframe tbody tr th {\n",
       "        vertical-align: top;\n",
       "    }\n",
       "\n",
       "    .dataframe thead th {\n",
       "        text-align: right;\n",
       "    }\n",
       "</style>\n",
       "<table border=\"1\" class=\"dataframe\">\n",
       "  <thead>\n",
       "    <tr style=\"text-align: right;\">\n",
       "      <th></th>\n",
       "      <th>animals</th>\n",
       "      <th>age</th>\n",
       "      <th>visits</th>\n",
       "      <th>priorty</th>\n",
       "    </tr>\n",
       "  </thead>\n",
       "  <tbody>\n",
       "    <tr>\n",
       "      <th>a</th>\n",
       "      <td>cat</td>\n",
       "      <td>22.0</td>\n",
       "      <td>1.0</td>\n",
       "      <td>yes</td>\n",
       "    </tr>\n",
       "    <tr>\n",
       "      <th>b</th>\n",
       "      <td>dog</td>\n",
       "      <td>22.0</td>\n",
       "      <td>2.0</td>\n",
       "      <td>no</td>\n",
       "    </tr>\n",
       "    <tr>\n",
       "      <th>c</th>\n",
       "      <td>tiger</td>\n",
       "      <td>NaN</td>\n",
       "      <td>3.0</td>\n",
       "      <td>yes</td>\n",
       "    </tr>\n",
       "    <tr>\n",
       "      <th>d</th>\n",
       "      <td>cat</td>\n",
       "      <td>12.0</td>\n",
       "      <td>NaN</td>\n",
       "      <td>no</td>\n",
       "    </tr>\n",
       "    <tr>\n",
       "      <th>e</th>\n",
       "      <td>dog</td>\n",
       "      <td>12.0</td>\n",
       "      <td>2.0</td>\n",
       "      <td>yes</td>\n",
       "    </tr>\n",
       "    <tr>\n",
       "      <th>f</th>\n",
       "      <td>tiger</td>\n",
       "      <td>12.0</td>\n",
       "      <td>3.0</td>\n",
       "      <td>no</td>\n",
       "    </tr>\n",
       "  </tbody>\n",
       "</table>\n",
       "</div>"
      ],
      "text/plain": [
       "  animals   age  visits priorty\n",
       "a     cat  22.0     1.0     yes\n",
       "b     dog  22.0     2.0      no\n",
       "c   tiger   NaN     3.0     yes\n",
       "d     cat  12.0     NaN      no\n",
       "e     dog  12.0     2.0     yes\n",
       "f   tiger  12.0     3.0      no"
      ]
     },
     "execution_count": 104,
     "metadata": {},
     "output_type": "execute_result"
    }
   ],
   "source": [
    " dic = {\"animals\" : ['cat', 'dog', 'tiger', 'cat', 'dog', 'tiger'], \"age\":[22,22,np.nan,12,12,12],\n",
    "        'visits':[1,2,3,np.nan,2,3], 'priorty':[\"yes\",\"no\",\"yes\",\"no\", \"yes\",\"no\"] }\n",
    "labels = [\"a\",\"b\",\"c\",\"d\",\"e\",\"f\"]\n",
    "df4 = pd.DataFrame(dic, index= labels)\n",
    "df4"
   ]
  },
  {
   "cell_type": "code",
   "execution_count": 107,
   "id": "c2a198e4",
   "metadata": {},
   "outputs": [
    {
     "data": {
      "text/plain": [
       "16.0"
      ]
     },
     "execution_count": 107,
     "metadata": {},
     "output_type": "execute_result"
    }
   ],
   "source": [
    "MeanAge = df4['age'].mean()\n",
    "MeanAge"
   ]
  },
  {
   "cell_type": "code",
   "execution_count": 108,
   "id": "7cfe8ac1",
   "metadata": {},
   "outputs": [
    {
     "data": {
      "text/plain": [
       "a    22.0\n",
       "b    22.0\n",
       "c    16.0\n",
       "d    12.0\n",
       "e    12.0\n",
       "f    12.0\n",
       "Name: age, dtype: float64"
      ]
     },
     "execution_count": 108,
     "metadata": {},
     "output_type": "execute_result"
    }
   ],
   "source": [
    "df4['age'].fillna(MeanAge)"
   ]
  },
  {
   "cell_type": "code",
   "execution_count": 109,
   "id": "29d459f1",
   "metadata": {},
   "outputs": [
    {
     "data": {
      "text/html": [
       "<div>\n",
       "<style scoped>\n",
       "    .dataframe tbody tr th:only-of-type {\n",
       "        vertical-align: middle;\n",
       "    }\n",
       "\n",
       "    .dataframe tbody tr th {\n",
       "        vertical-align: top;\n",
       "    }\n",
       "\n",
       "    .dataframe thead th {\n",
       "        text-align: right;\n",
       "    }\n",
       "</style>\n",
       "<table border=\"1\" class=\"dataframe\">\n",
       "  <thead>\n",
       "    <tr style=\"text-align: right;\">\n",
       "      <th></th>\n",
       "      <th>animals</th>\n",
       "      <th>age</th>\n",
       "      <th>visits</th>\n",
       "      <th>priorty</th>\n",
       "    </tr>\n",
       "  </thead>\n",
       "  <tbody>\n",
       "    <tr>\n",
       "      <th>a</th>\n",
       "      <td>cat</td>\n",
       "      <td>22.0</td>\n",
       "      <td>1</td>\n",
       "      <td>yes</td>\n",
       "    </tr>\n",
       "    <tr>\n",
       "      <th>b</th>\n",
       "      <td>dog</td>\n",
       "      <td>22.0</td>\n",
       "      <td>2</td>\n",
       "      <td>no</td>\n",
       "    </tr>\n",
       "    <tr>\n",
       "      <th>c</th>\n",
       "      <td>tiger</td>\n",
       "      <td>22.0</td>\n",
       "      <td>3</td>\n",
       "      <td>yes</td>\n",
       "    </tr>\n",
       "    <tr>\n",
       "      <th>d</th>\n",
       "      <td>cat</td>\n",
       "      <td>12.0</td>\n",
       "      <td>1</td>\n",
       "      <td>no</td>\n",
       "    </tr>\n",
       "    <tr>\n",
       "      <th>e</th>\n",
       "      <td>dog</td>\n",
       "      <td>12.0</td>\n",
       "      <td>2</td>\n",
       "      <td>yes</td>\n",
       "    </tr>\n",
       "    <tr>\n",
       "      <th>f</th>\n",
       "      <td>tiger</td>\n",
       "      <td>1.5</td>\n",
       "      <td>3</td>\n",
       "      <td>no</td>\n",
       "    </tr>\n",
       "  </tbody>\n",
       "</table>\n",
       "</div>"
      ],
      "text/plain": [
       "  animals   age  visits priorty\n",
       "a     cat  22.0       1     yes\n",
       "b     dog  22.0       2      no\n",
       "c   tiger  22.0       3     yes\n",
       "d     cat  12.0       1      no\n",
       "e     dog  12.0       2     yes\n",
       "f   tiger   1.5       3      no"
      ]
     },
     "execution_count": 109,
     "metadata": {},
     "output_type": "execute_result"
    }
   ],
   "source": [
    "df5 = df3.copy()\n",
    "df5"
   ]
  },
  {
   "cell_type": "code",
   "execution_count": 110,
   "id": "9dad3a44",
   "metadata": {},
   "outputs": [
    {
     "data": {
      "text/html": [
       "<div>\n",
       "<style scoped>\n",
       "    .dataframe tbody tr th:only-of-type {\n",
       "        vertical-align: middle;\n",
       "    }\n",
       "\n",
       "    .dataframe tbody tr th {\n",
       "        vertical-align: top;\n",
       "    }\n",
       "\n",
       "    .dataframe thead th {\n",
       "        text-align: right;\n",
       "    }\n",
       "</style>\n",
       "<table border=\"1\" class=\"dataframe\">\n",
       "  <thead>\n",
       "    <tr style=\"text-align: right;\">\n",
       "      <th></th>\n",
       "      <th>animals</th>\n",
       "      <th>age</th>\n",
       "      <th>visits</th>\n",
       "      <th>priorty</th>\n",
       "    </tr>\n",
       "  </thead>\n",
       "  <tbody>\n",
       "    <tr>\n",
       "      <th>a</th>\n",
       "      <td>cat</td>\n",
       "      <td>22.0</td>\n",
       "      <td>1.0</td>\n",
       "      <td>yes</td>\n",
       "    </tr>\n",
       "    <tr>\n",
       "      <th>b</th>\n",
       "      <td>dog</td>\n",
       "      <td>22.0</td>\n",
       "      <td>2.0</td>\n",
       "      <td>no</td>\n",
       "    </tr>\n",
       "    <tr>\n",
       "      <th>c</th>\n",
       "      <td>tiger</td>\n",
       "      <td>NaN</td>\n",
       "      <td>3.0</td>\n",
       "      <td>yes</td>\n",
       "    </tr>\n",
       "    <tr>\n",
       "      <th>d</th>\n",
       "      <td>cat</td>\n",
       "      <td>12.0</td>\n",
       "      <td>NaN</td>\n",
       "      <td>no</td>\n",
       "    </tr>\n",
       "    <tr>\n",
       "      <th>e</th>\n",
       "      <td>dog</td>\n",
       "      <td>12.0</td>\n",
       "      <td>2.0</td>\n",
       "      <td>yes</td>\n",
       "    </tr>\n",
       "    <tr>\n",
       "      <th>f</th>\n",
       "      <td>tiger</td>\n",
       "      <td>12.0</td>\n",
       "      <td>3.0</td>\n",
       "      <td>no</td>\n",
       "    </tr>\n",
       "  </tbody>\n",
       "</table>\n",
       "</div>"
      ],
      "text/plain": [
       "  animals   age  visits priorty\n",
       "a     cat  22.0     1.0     yes\n",
       "b     dog  22.0     2.0      no\n",
       "c   tiger   NaN     3.0     yes\n",
       "d     cat  12.0     NaN      no\n",
       "e     dog  12.0     2.0     yes\n",
       "f   tiger  12.0     3.0      no"
      ]
     },
     "execution_count": 110,
     "metadata": {},
     "output_type": "execute_result"
    }
   ],
   "source": [
    "df6 = df4.copy()\n",
    "df6"
   ]
  },
  {
   "cell_type": "code",
   "execution_count": 112,
   "id": "2ee0ffe1",
   "metadata": {},
   "outputs": [
    {
     "data": {
      "text/html": [
       "<div>\n",
       "<style scoped>\n",
       "    .dataframe tbody tr th:only-of-type {\n",
       "        vertical-align: middle;\n",
       "    }\n",
       "\n",
       "    .dataframe tbody tr th {\n",
       "        vertical-align: top;\n",
       "    }\n",
       "\n",
       "    .dataframe thead th {\n",
       "        text-align: right;\n",
       "    }\n",
       "</style>\n",
       "<table border=\"1\" class=\"dataframe\">\n",
       "  <thead>\n",
       "    <tr style=\"text-align: right;\">\n",
       "      <th></th>\n",
       "      <th>animals</th>\n",
       "      <th>age</th>\n",
       "      <th>visits</th>\n",
       "      <th>priorty</th>\n",
       "    </tr>\n",
       "  </thead>\n",
       "  <tbody>\n",
       "    <tr>\n",
       "      <th>a</th>\n",
       "      <td>cat</td>\n",
       "      <td>22.0</td>\n",
       "      <td>1.0</td>\n",
       "      <td>yes</td>\n",
       "    </tr>\n",
       "    <tr>\n",
       "      <th>b</th>\n",
       "      <td>dog</td>\n",
       "      <td>22.0</td>\n",
       "      <td>2.0</td>\n",
       "      <td>no</td>\n",
       "    </tr>\n",
       "    <tr>\n",
       "      <th>c</th>\n",
       "      <td>tiger</td>\n",
       "      <td>NaN</td>\n",
       "      <td>3.0</td>\n",
       "      <td>yes</td>\n",
       "    </tr>\n",
       "    <tr>\n",
       "      <th>d</th>\n",
       "      <td>cat</td>\n",
       "      <td>12.0</td>\n",
       "      <td>NaN</td>\n",
       "      <td>no</td>\n",
       "    </tr>\n",
       "    <tr>\n",
       "      <th>e</th>\n",
       "      <td>dog</td>\n",
       "      <td>12.0</td>\n",
       "      <td>2.0</td>\n",
       "      <td>yes</td>\n",
       "    </tr>\n",
       "    <tr>\n",
       "      <th>f</th>\n",
       "      <td>tiger</td>\n",
       "      <td>12.0</td>\n",
       "      <td>3.0</td>\n",
       "      <td>no</td>\n",
       "    </tr>\n",
       "  </tbody>\n",
       "</table>\n",
       "</div>"
      ],
      "text/plain": [
       "  animals   age  visits priorty\n",
       "a     cat  22.0     1.0     yes\n",
       "b     dog  22.0     2.0      no\n",
       "c   tiger   NaN     3.0     yes\n",
       "d     cat  12.0     NaN      no\n",
       "e     dog  12.0     2.0     yes\n",
       "f   tiger  12.0     3.0      no"
      ]
     },
     "execution_count": 112,
     "metadata": {},
     "output_type": "execute_result"
    }
   ],
   "source": [
    "df6.dropna(how = 'any')\n",
    "df6"
   ]
  },
  {
   "cell_type": "markdown",
   "id": "3b405f8a",
   "metadata": {},
   "source": [
    "# DataFrame File Operations"
   ]
  },
  {
   "cell_type": "code",
   "execution_count": 114,
   "id": "316ff631",
   "metadata": {},
   "outputs": [],
   "source": [
    "df3.to_csv('animal.csv')"
   ]
  },
  {
   "cell_type": "code",
   "execution_count": 115,
   "id": "4a447245",
   "metadata": {},
   "outputs": [],
   "source": [
    "df_animal = pd.read_csv('animal.csv')"
   ]
  },
  {
   "cell_type": "code",
   "execution_count": 116,
   "id": "80e25a39",
   "metadata": {},
   "outputs": [
    {
     "data": {
      "text/html": [
       "<div>\n",
       "<style scoped>\n",
       "    .dataframe tbody tr th:only-of-type {\n",
       "        vertical-align: middle;\n",
       "    }\n",
       "\n",
       "    .dataframe tbody tr th {\n",
       "        vertical-align: top;\n",
       "    }\n",
       "\n",
       "    .dataframe thead th {\n",
       "        text-align: right;\n",
       "    }\n",
       "</style>\n",
       "<table border=\"1\" class=\"dataframe\">\n",
       "  <thead>\n",
       "    <tr style=\"text-align: right;\">\n",
       "      <th></th>\n",
       "      <th>Unnamed: 0</th>\n",
       "      <th>animals</th>\n",
       "      <th>age</th>\n",
       "      <th>visits</th>\n",
       "      <th>priorty</th>\n",
       "    </tr>\n",
       "  </thead>\n",
       "  <tbody>\n",
       "    <tr>\n",
       "      <th>0</th>\n",
       "      <td>a</td>\n",
       "      <td>cat</td>\n",
       "      <td>22.0</td>\n",
       "      <td>1</td>\n",
       "      <td>yes</td>\n",
       "    </tr>\n",
       "    <tr>\n",
       "      <th>1</th>\n",
       "      <td>b</td>\n",
       "      <td>dog</td>\n",
       "      <td>22.0</td>\n",
       "      <td>2</td>\n",
       "      <td>no</td>\n",
       "    </tr>\n",
       "    <tr>\n",
       "      <th>2</th>\n",
       "      <td>c</td>\n",
       "      <td>tiger</td>\n",
       "      <td>22.0</td>\n",
       "      <td>3</td>\n",
       "      <td>yes</td>\n",
       "    </tr>\n",
       "    <tr>\n",
       "      <th>3</th>\n",
       "      <td>d</td>\n",
       "      <td>cat</td>\n",
       "      <td>12.0</td>\n",
       "      <td>1</td>\n",
       "      <td>no</td>\n",
       "    </tr>\n",
       "    <tr>\n",
       "      <th>4</th>\n",
       "      <td>e</td>\n",
       "      <td>dog</td>\n",
       "      <td>12.0</td>\n",
       "      <td>2</td>\n",
       "      <td>yes</td>\n",
       "    </tr>\n",
       "    <tr>\n",
       "      <th>5</th>\n",
       "      <td>f</td>\n",
       "      <td>tiger</td>\n",
       "      <td>1.5</td>\n",
       "      <td>3</td>\n",
       "      <td>no</td>\n",
       "    </tr>\n",
       "  </tbody>\n",
       "</table>\n",
       "</div>"
      ],
      "text/plain": [
       "  Unnamed: 0 animals   age  visits priorty\n",
       "0          a     cat  22.0       1     yes\n",
       "1          b     dog  22.0       2      no\n",
       "2          c   tiger  22.0       3     yes\n",
       "3          d     cat  12.0       1      no\n",
       "4          e     dog  12.0       2     yes\n",
       "5          f   tiger   1.5       3      no"
      ]
     },
     "execution_count": 116,
     "metadata": {},
     "output_type": "execute_result"
    }
   ],
   "source": [
    "df_animal"
   ]
  },
  {
   "cell_type": "code",
   "execution_count": 117,
   "id": "2e691475",
   "metadata": {},
   "outputs": [
    {
     "data": {
      "text/html": [
       "<div>\n",
       "<style scoped>\n",
       "    .dataframe tbody tr th:only-of-type {\n",
       "        vertical-align: middle;\n",
       "    }\n",
       "\n",
       "    .dataframe tbody tr th {\n",
       "        vertical-align: top;\n",
       "    }\n",
       "\n",
       "    .dataframe thead th {\n",
       "        text-align: right;\n",
       "    }\n",
       "</style>\n",
       "<table border=\"1\" class=\"dataframe\">\n",
       "  <thead>\n",
       "    <tr style=\"text-align: right;\">\n",
       "      <th></th>\n",
       "      <th>Unnamed: 0</th>\n",
       "      <th>animals</th>\n",
       "      <th>age</th>\n",
       "      <th>visits</th>\n",
       "      <th>priorty</th>\n",
       "    </tr>\n",
       "  </thead>\n",
       "  <tbody>\n",
       "    <tr>\n",
       "      <th>0</th>\n",
       "      <td>a</td>\n",
       "      <td>cat</td>\n",
       "      <td>22.0</td>\n",
       "      <td>1</td>\n",
       "      <td>yes</td>\n",
       "    </tr>\n",
       "    <tr>\n",
       "      <th>1</th>\n",
       "      <td>b</td>\n",
       "      <td>dog</td>\n",
       "      <td>22.0</td>\n",
       "      <td>2</td>\n",
       "      <td>no</td>\n",
       "    </tr>\n",
       "    <tr>\n",
       "      <th>2</th>\n",
       "      <td>c</td>\n",
       "      <td>tiger</td>\n",
       "      <td>22.0</td>\n",
       "      <td>3</td>\n",
       "      <td>yes</td>\n",
       "    </tr>\n",
       "    <tr>\n",
       "      <th>3</th>\n",
       "      <td>d</td>\n",
       "      <td>cat</td>\n",
       "      <td>12.0</td>\n",
       "      <td>1</td>\n",
       "      <td>no</td>\n",
       "    </tr>\n",
       "    <tr>\n",
       "      <th>4</th>\n",
       "      <td>e</td>\n",
       "      <td>dog</td>\n",
       "      <td>12.0</td>\n",
       "      <td>2</td>\n",
       "      <td>yes</td>\n",
       "    </tr>\n",
       "  </tbody>\n",
       "</table>\n",
       "</div>"
      ],
      "text/plain": [
       "  Unnamed: 0 animals   age  visits priorty\n",
       "0          a     cat  22.0       1     yes\n",
       "1          b     dog  22.0       2      no\n",
       "2          c   tiger  22.0       3     yes\n",
       "3          d     cat  12.0       1      no\n",
       "4          e     dog  12.0       2     yes"
      ]
     },
     "execution_count": 117,
     "metadata": {},
     "output_type": "execute_result"
    }
   ],
   "source": [
    "df_animal.head()"
   ]
  },
  {
   "cell_type": "code",
   "execution_count": 118,
   "id": "0c0a5e4a",
   "metadata": {},
   "outputs": [
    {
     "data": {
      "text/html": [
       "<div>\n",
       "<style scoped>\n",
       "    .dataframe tbody tr th:only-of-type {\n",
       "        vertical-align: middle;\n",
       "    }\n",
       "\n",
       "    .dataframe tbody tr th {\n",
       "        vertical-align: top;\n",
       "    }\n",
       "\n",
       "    .dataframe thead th {\n",
       "        text-align: right;\n",
       "    }\n",
       "</style>\n",
       "<table border=\"1\" class=\"dataframe\">\n",
       "  <thead>\n",
       "    <tr style=\"text-align: right;\">\n",
       "      <th></th>\n",
       "      <th>Unnamed: 0</th>\n",
       "      <th>animals</th>\n",
       "      <th>age</th>\n",
       "      <th>visits</th>\n",
       "      <th>priorty</th>\n",
       "    </tr>\n",
       "  </thead>\n",
       "  <tbody>\n",
       "    <tr>\n",
       "      <th>1</th>\n",
       "      <td>b</td>\n",
       "      <td>dog</td>\n",
       "      <td>22.0</td>\n",
       "      <td>2</td>\n",
       "      <td>no</td>\n",
       "    </tr>\n",
       "    <tr>\n",
       "      <th>2</th>\n",
       "      <td>c</td>\n",
       "      <td>tiger</td>\n",
       "      <td>22.0</td>\n",
       "      <td>3</td>\n",
       "      <td>yes</td>\n",
       "    </tr>\n",
       "    <tr>\n",
       "      <th>3</th>\n",
       "      <td>d</td>\n",
       "      <td>cat</td>\n",
       "      <td>12.0</td>\n",
       "      <td>1</td>\n",
       "      <td>no</td>\n",
       "    </tr>\n",
       "    <tr>\n",
       "      <th>4</th>\n",
       "      <td>e</td>\n",
       "      <td>dog</td>\n",
       "      <td>12.0</td>\n",
       "      <td>2</td>\n",
       "      <td>yes</td>\n",
       "    </tr>\n",
       "    <tr>\n",
       "      <th>5</th>\n",
       "      <td>f</td>\n",
       "      <td>tiger</td>\n",
       "      <td>1.5</td>\n",
       "      <td>3</td>\n",
       "      <td>no</td>\n",
       "    </tr>\n",
       "  </tbody>\n",
       "</table>\n",
       "</div>"
      ],
      "text/plain": [
       "  Unnamed: 0 animals   age  visits priorty\n",
       "1          b     dog  22.0       2      no\n",
       "2          c   tiger  22.0       3     yes\n",
       "3          d     cat  12.0       1      no\n",
       "4          e     dog  12.0       2     yes\n",
       "5          f   tiger   1.5       3      no"
      ]
     },
     "execution_count": 118,
     "metadata": {},
     "output_type": "execute_result"
    }
   ],
   "source": [
    "df_animal.tail()"
   ]
  },
  {
   "cell_type": "code",
   "execution_count": 122,
   "id": "73189f8d",
   "metadata": {},
   "outputs": [
    {
     "data": {
      "text/html": [
       "<div>\n",
       "<style scoped>\n",
       "    .dataframe tbody tr th:only-of-type {\n",
       "        vertical-align: middle;\n",
       "    }\n",
       "\n",
       "    .dataframe tbody tr th {\n",
       "        vertical-align: top;\n",
       "    }\n",
       "\n",
       "    .dataframe thead th {\n",
       "        text-align: right;\n",
       "    }\n",
       "</style>\n",
       "<table border=\"1\" class=\"dataframe\">\n",
       "  <thead>\n",
       "    <tr style=\"text-align: right;\">\n",
       "      <th></th>\n",
       "      <th>Unnamed: 0</th>\n",
       "      <th>animals</th>\n",
       "      <th>age</th>\n",
       "      <th>visits</th>\n",
       "      <th>priorty</th>\n",
       "    </tr>\n",
       "  </thead>\n",
       "  <tbody>\n",
       "    <tr>\n",
       "      <th>0</th>\n",
       "      <td>a</td>\n",
       "      <td>cat</td>\n",
       "      <td>22.0</td>\n",
       "      <td>1</td>\n",
       "      <td>yes</td>\n",
       "    </tr>\n",
       "    <tr>\n",
       "      <th>1</th>\n",
       "      <td>b</td>\n",
       "      <td>dog</td>\n",
       "      <td>22.0</td>\n",
       "      <td>2</td>\n",
       "      <td>no</td>\n",
       "    </tr>\n",
       "    <tr>\n",
       "      <th>2</th>\n",
       "      <td>c</td>\n",
       "      <td>tiger</td>\n",
       "      <td>22.0</td>\n",
       "      <td>3</td>\n",
       "      <td>yes</td>\n",
       "    </tr>\n",
       "    <tr>\n",
       "      <th>3</th>\n",
       "      <td>d</td>\n",
       "      <td>cat</td>\n",
       "      <td>12.0</td>\n",
       "      <td>1</td>\n",
       "      <td>no</td>\n",
       "    </tr>\n",
       "    <tr>\n",
       "      <th>4</th>\n",
       "      <td>e</td>\n",
       "      <td>dog</td>\n",
       "      <td>12.0</td>\n",
       "      <td>2</td>\n",
       "      <td>yes</td>\n",
       "    </tr>\n",
       "    <tr>\n",
       "      <th>5</th>\n",
       "      <td>f</td>\n",
       "      <td>tiger</td>\n",
       "      <td>1.5</td>\n",
       "      <td>3</td>\n",
       "      <td>no</td>\n",
       "    </tr>\n",
       "  </tbody>\n",
       "</table>\n",
       "</div>"
      ],
      "text/plain": [
       "  Unnamed: 0 animals   age  visits priorty\n",
       "0          a     cat  22.0       1     yes\n",
       "1          b     dog  22.0       2      no\n",
       "2          c   tiger  22.0       3     yes\n",
       "3          d     cat  12.0       1      no\n",
       "4          e     dog  12.0       2     yes\n",
       "5          f   tiger   1.5       3      no"
      ]
     },
     "execution_count": 122,
     "metadata": {},
     "output_type": "execute_result"
    }
   ],
   "source": [
    "df3.to_excel('animal.xlsx', sheet_name = 'Sheet1')\n",
    "df_animal2 = pd.read_excel('animal.xlsx', 'Sheet1', index_col = None, na_values = ['NA'])\n",
    "df_animal2"
   ]
  },
  {
   "cell_type": "markdown",
   "id": "766c6dc4",
   "metadata": {},
   "source": [
    "# Visualization in Pandas"
   ]
  },
  {
   "cell_type": "code",
   "execution_count": 124,
   "id": "5a9016ff",
   "metadata": {},
   "outputs": [
    {
     "data": {
      "text/plain": [
       "<AxesSubplot:>"
      ]
     },
     "execution_count": 124,
     "metadata": {},
     "output_type": "execute_result"
    },
    {
     "data": {
      "image/png": "[encoded data removed]",
      "text/plain": [
       "<Figure size 432x288 with 1 Axes>"
      ]
     },
     "metadata": {
      "needs_background": "light"
     },
     "output_type": "display_data"
    }
   ],
   "source": [
    "# Series and DataFrame line Chart\n",
    "import numpy as np\n",
    "%matplotlib inline\n",
    "\n",
    "ts = pd.Series(np.random.randn(50), index=  pd.date_range('today', periods= 50))\n",
    "ts = ts.cumsum()\n",
    "ts.plot()"
   ]
  },
  {
   "cell_type": "code",
   "execution_count": 125,
   "id": "fb3f3e3a",
   "metadata": {},
   "outputs": [],
   "source": [
    "df = pd.DataFrame(np.random.randn(50,4), index=  ts.index, columns = ['A','B','C','D'])"
   ]
  },
  {
   "cell_type": "code",
   "execution_count": 126,
   "id": "771c9a0a",
   "metadata": {},
   "outputs": [
    {
     "data": {
      "text/html": [
       "<div>\n",
       "<style scoped>\n",
       "    .dataframe tbody tr th:only-of-type {\n",
       "        vertical-align: middle;\n",
       "    }\n",
       "\n",
       "    .dataframe tbody tr th {\n",
       "        vertical-align: top;\n",
       "    }\n",
       "\n",
       "    .dataframe thead th {\n",
       "        text-align: right;\n",
       "    }\n",
       "</style>\n",
       "<table border=\"1\" class=\"dataframe\">\n",
       "  <thead>\n",
       "    <tr style=\"text-align: right;\">\n",
       "      <th></th>\n",
       "      <th>A</th>\n",
       "      <th>B</th>\n",
       "      <th>C</th>\n",
       "      <th>D</th>\n",
       "    </tr>\n",
       "  </thead>\n",
       "  <tbody>\n",
       "    <tr>\n",
       "      <th>2022-07-13 11:34:58.405876</th>\n",
       "      <td>-0.541272</td>\n",
       "      <td>1.407834</td>\n",
       "      <td>0.628583</td>\n",
       "      <td>0.758467</td>\n",
       "    </tr>\n",
       "    <tr>\n",
       "      <th>2022-07-14 11:34:58.405876</th>\n",
       "      <td>-0.937638</td>\n",
       "      <td>0.178493</td>\n",
       "      <td>-0.536041</td>\n",
       "      <td>0.184340</td>\n",
       "    </tr>\n",
       "    <tr>\n",
       "      <th>2022-07-15 11:34:58.405876</th>\n",
       "      <td>-0.091753</td>\n",
       "      <td>-0.451250</td>\n",
       "      <td>-0.295300</td>\n",
       "      <td>-1.397824</td>\n",
       "    </tr>\n",
       "    <tr>\n",
       "      <th>2022-07-16 11:34:58.405876</th>\n",
       "      <td>-0.536005</td>\n",
       "      <td>-1.067801</td>\n",
       "      <td>1.204170</td>\n",
       "      <td>0.560601</td>\n",
       "    </tr>\n",
       "    <tr>\n",
       "      <th>2022-07-17 11:34:58.405876</th>\n",
       "      <td>-0.483628</td>\n",
       "      <td>-0.805719</td>\n",
       "      <td>-0.180991</td>\n",
       "      <td>1.564771</td>\n",
       "    </tr>\n",
       "    <tr>\n",
       "      <th>2022-07-18 11:34:58.405876</th>\n",
       "      <td>0.285432</td>\n",
       "      <td>0.727122</td>\n",
       "      <td>-0.083670</td>\n",
       "      <td>0.965996</td>\n",
       "    </tr>\n",
       "    <tr>\n",
       "      <th>2022-07-19 11:34:58.405876</th>\n",
       "      <td>-0.540892</td>\n",
       "      <td>0.132180</td>\n",
       "      <td>-1.856507</td>\n",
       "      <td>-0.018000</td>\n",
       "    </tr>\n",
       "    <tr>\n",
       "      <th>2022-07-20 11:34:58.405876</th>\n",
       "      <td>1.531342</td>\n",
       "      <td>2.486505</td>\n",
       "      <td>-0.215869</td>\n",
       "      <td>0.122700</td>\n",
       "    </tr>\n",
       "    <tr>\n",
       "      <th>2022-07-21 11:34:58.405876</th>\n",
       "      <td>1.005827</td>\n",
       "      <td>0.657729</td>\n",
       "      <td>-0.136139</td>\n",
       "      <td>0.080266</td>\n",
       "    </tr>\n",
       "    <tr>\n",
       "      <th>2022-07-22 11:34:58.405876</th>\n",
       "      <td>-1.351448</td>\n",
       "      <td>-0.473379</td>\n",
       "      <td>0.629779</td>\n",
       "      <td>1.667507</td>\n",
       "    </tr>\n",
       "    <tr>\n",
       "      <th>2022-07-23 11:34:58.405876</th>\n",
       "      <td>-1.433740</td>\n",
       "      <td>-0.639436</td>\n",
       "      <td>-0.439284</td>\n",
       "      <td>-0.599850</td>\n",
       "    </tr>\n",
       "    <tr>\n",
       "      <th>2022-07-24 11:34:58.405876</th>\n",
       "      <td>0.780551</td>\n",
       "      <td>0.384883</td>\n",
       "      <td>0.177438</td>\n",
       "      <td>0.360499</td>\n",
       "    </tr>\n",
       "    <tr>\n",
       "      <th>2022-07-25 11:34:58.405876</th>\n",
       "      <td>-1.223882</td>\n",
       "      <td>-0.466602</td>\n",
       "      <td>0.182193</td>\n",
       "      <td>1.074331</td>\n",
       "    </tr>\n",
       "    <tr>\n",
       "      <th>2022-07-26 11:34:58.405876</th>\n",
       "      <td>0.081865</td>\n",
       "      <td>1.391925</td>\n",
       "      <td>-0.637733</td>\n",
       "      <td>1.900592</td>\n",
       "    </tr>\n",
       "    <tr>\n",
       "      <th>2022-07-27 11:34:58.405876</th>\n",
       "      <td>1.371659</td>\n",
       "      <td>-1.101974</td>\n",
       "      <td>-0.830921</td>\n",
       "      <td>-1.109350</td>\n",
       "    </tr>\n",
       "    <tr>\n",
       "      <th>2022-07-28 11:34:58.405876</th>\n",
       "      <td>0.286905</td>\n",
       "      <td>0.365794</td>\n",
       "      <td>-1.044600</td>\n",
       "      <td>0.861544</td>\n",
       "    </tr>\n",
       "    <tr>\n",
       "      <th>2022-07-29 11:34:58.405876</th>\n",
       "      <td>1.378062</td>\n",
       "      <td>-1.477942</td>\n",
       "      <td>-0.043485</td>\n",
       "      <td>-1.286622</td>\n",
       "    </tr>\n",
       "    <tr>\n",
       "      <th>2022-07-30 11:34:58.405876</th>\n",
       "      <td>0.442799</td>\n",
       "      <td>-0.028570</td>\n",
       "      <td>0.286177</td>\n",
       "      <td>0.969227</td>\n",
       "    </tr>\n",
       "    <tr>\n",
       "      <th>2022-07-31 11:34:58.405876</th>\n",
       "      <td>-1.462173</td>\n",
       "      <td>-0.207738</td>\n",
       "      <td>1.674283</td>\n",
       "      <td>0.251780</td>\n",
       "    </tr>\n",
       "    <tr>\n",
       "      <th>2022-08-01 11:34:58.405876</th>\n",
       "      <td>1.099096</td>\n",
       "      <td>1.950672</td>\n",
       "      <td>0.525560</td>\n",
       "      <td>-1.033645</td>\n",
       "    </tr>\n",
       "    <tr>\n",
       "      <th>2022-08-02 11:34:58.405876</th>\n",
       "      <td>-0.314520</td>\n",
       "      <td>0.832988</td>\n",
       "      <td>0.485761</td>\n",
       "      <td>1.599613</td>\n",
       "    </tr>\n",
       "    <tr>\n",
       "      <th>2022-08-03 11:34:58.405876</th>\n",
       "      <td>0.503903</td>\n",
       "      <td>1.015602</td>\n",
       "      <td>-0.388872</td>\n",
       "      <td>-1.377782</td>\n",
       "    </tr>\n",
       "    <tr>\n",
       "      <th>2022-08-04 11:34:58.405876</th>\n",
       "      <td>1.107639</td>\n",
       "      <td>0.915907</td>\n",
       "      <td>1.147038</td>\n",
       "      <td>1.438059</td>\n",
       "    </tr>\n",
       "    <tr>\n",
       "      <th>2022-08-05 11:34:58.405876</th>\n",
       "      <td>-0.040193</td>\n",
       "      <td>-0.431210</td>\n",
       "      <td>-1.568927</td>\n",
       "      <td>0.851569</td>\n",
       "    </tr>\n",
       "    <tr>\n",
       "      <th>2022-08-06 11:34:58.405876</th>\n",
       "      <td>-0.423598</td>\n",
       "      <td>-0.005841</td>\n",
       "      <td>0.062890</td>\n",
       "      <td>0.380555</td>\n",
       "    </tr>\n",
       "    <tr>\n",
       "      <th>2022-08-07 11:34:58.405876</th>\n",
       "      <td>-1.804983</td>\n",
       "      <td>-1.260933</td>\n",
       "      <td>0.136224</td>\n",
       "      <td>0.986720</td>\n",
       "    </tr>\n",
       "    <tr>\n",
       "      <th>2022-08-08 11:34:58.405876</th>\n",
       "      <td>-1.546432</td>\n",
       "      <td>1.694968</td>\n",
       "      <td>-0.152856</td>\n",
       "      <td>-0.785197</td>\n",
       "    </tr>\n",
       "    <tr>\n",
       "      <th>2022-08-09 11:34:58.405876</th>\n",
       "      <td>-0.254176</td>\n",
       "      <td>0.097687</td>\n",
       "      <td>-0.470556</td>\n",
       "      <td>0.335833</td>\n",
       "    </tr>\n",
       "    <tr>\n",
       "      <th>2022-08-10 11:34:58.405876</th>\n",
       "      <td>1.854254</td>\n",
       "      <td>0.105475</td>\n",
       "      <td>-0.179501</td>\n",
       "      <td>0.085654</td>\n",
       "    </tr>\n",
       "    <tr>\n",
       "      <th>2022-08-11 11:34:58.405876</th>\n",
       "      <td>-1.763055</td>\n",
       "      <td>-1.209674</td>\n",
       "      <td>-0.796235</td>\n",
       "      <td>1.032901</td>\n",
       "    </tr>\n",
       "    <tr>\n",
       "      <th>2022-08-12 11:34:58.405876</th>\n",
       "      <td>0.476943</td>\n",
       "      <td>-0.948792</td>\n",
       "      <td>1.381463</td>\n",
       "      <td>-1.023719</td>\n",
       "    </tr>\n",
       "    <tr>\n",
       "      <th>2022-08-13 11:34:58.405876</th>\n",
       "      <td>-1.591748</td>\n",
       "      <td>0.041797</td>\n",
       "      <td>1.291287</td>\n",
       "      <td>-0.140001</td>\n",
       "    </tr>\n",
       "    <tr>\n",
       "      <th>2022-08-14 11:34:58.405876</th>\n",
       "      <td>1.367885</td>\n",
       "      <td>0.090846</td>\n",
       "      <td>0.596096</td>\n",
       "      <td>1.047576</td>\n",
       "    </tr>\n",
       "    <tr>\n",
       "      <th>2022-08-15 11:34:58.405876</th>\n",
       "      <td>-0.622396</td>\n",
       "      <td>-0.029445</td>\n",
       "      <td>0.111880</td>\n",
       "      <td>-0.508908</td>\n",
       "    </tr>\n",
       "    <tr>\n",
       "      <th>2022-08-16 11:34:58.405876</th>\n",
       "      <td>-1.086232</td>\n",
       "      <td>0.848616</td>\n",
       "      <td>1.603035</td>\n",
       "      <td>-0.802355</td>\n",
       "    </tr>\n",
       "    <tr>\n",
       "      <th>2022-08-17 11:34:58.405876</th>\n",
       "      <td>1.045781</td>\n",
       "      <td>-0.492353</td>\n",
       "      <td>-0.516109</td>\n",
       "      <td>-0.808709</td>\n",
       "    </tr>\n",
       "    <tr>\n",
       "      <th>2022-08-18 11:34:58.405876</th>\n",
       "      <td>2.183465</td>\n",
       "      <td>-1.099701</td>\n",
       "      <td>-0.621287</td>\n",
       "      <td>-0.546263</td>\n",
       "    </tr>\n",
       "    <tr>\n",
       "      <th>2022-08-19 11:34:58.405876</th>\n",
       "      <td>0.911995</td>\n",
       "      <td>0.687970</td>\n",
       "      <td>0.809273</td>\n",
       "      <td>1.462861</td>\n",
       "    </tr>\n",
       "    <tr>\n",
       "      <th>2022-08-20 11:34:58.405876</th>\n",
       "      <td>-0.362024</td>\n",
       "      <td>0.355196</td>\n",
       "      <td>0.678116</td>\n",
       "      <td>1.656074</td>\n",
       "    </tr>\n",
       "    <tr>\n",
       "      <th>2022-08-21 11:34:58.405876</th>\n",
       "      <td>2.936390</td>\n",
       "      <td>1.240946</td>\n",
       "      <td>1.522410</td>\n",
       "      <td>1.124715</td>\n",
       "    </tr>\n",
       "    <tr>\n",
       "      <th>2022-08-22 11:34:58.405876</th>\n",
       "      <td>-0.379890</td>\n",
       "      <td>-0.802737</td>\n",
       "      <td>-0.710608</td>\n",
       "      <td>-1.216125</td>\n",
       "    </tr>\n",
       "    <tr>\n",
       "      <th>2022-08-23 11:34:58.405876</th>\n",
       "      <td>0.132475</td>\n",
       "      <td>-0.048810</td>\n",
       "      <td>-0.168703</td>\n",
       "      <td>-0.455818</td>\n",
       "    </tr>\n",
       "    <tr>\n",
       "      <th>2022-08-24 11:34:58.405876</th>\n",
       "      <td>0.265393</td>\n",
       "      <td>1.200096</td>\n",
       "      <td>-0.523130</td>\n",
       "      <td>-0.205145</td>\n",
       "    </tr>\n",
       "    <tr>\n",
       "      <th>2022-08-25 11:34:58.405876</th>\n",
       "      <td>-0.907506</td>\n",
       "      <td>0.230769</td>\n",
       "      <td>0.834085</td>\n",
       "      <td>-0.054228</td>\n",
       "    </tr>\n",
       "    <tr>\n",
       "      <th>2022-08-26 11:34:58.405876</th>\n",
       "      <td>0.097227</td>\n",
       "      <td>0.437451</td>\n",
       "      <td>-0.017237</td>\n",
       "      <td>0.465563</td>\n",
       "    </tr>\n",
       "    <tr>\n",
       "      <th>2022-08-27 11:34:58.405876</th>\n",
       "      <td>0.981465</td>\n",
       "      <td>0.350873</td>\n",
       "      <td>0.139872</td>\n",
       "      <td>0.212295</td>\n",
       "    </tr>\n",
       "    <tr>\n",
       "      <th>2022-08-28 11:34:58.405876</th>\n",
       "      <td>0.857542</td>\n",
       "      <td>0.452960</td>\n",
       "      <td>0.587285</td>\n",
       "      <td>-0.477459</td>\n",
       "    </tr>\n",
       "    <tr>\n",
       "      <th>2022-08-29 11:34:58.405876</th>\n",
       "      <td>-0.503466</td>\n",
       "      <td>1.050519</td>\n",
       "      <td>0.030601</td>\n",
       "      <td>-0.535351</td>\n",
       "    </tr>\n",
       "    <tr>\n",
       "      <th>2022-08-30 11:34:58.405876</th>\n",
       "      <td>0.239280</td>\n",
       "      <td>-1.068106</td>\n",
       "      <td>-0.303086</td>\n",
       "      <td>-0.333380</td>\n",
       "    </tr>\n",
       "    <tr>\n",
       "      <th>2022-08-31 11:34:58.405876</th>\n",
       "      <td>1.935199</td>\n",
       "      <td>0.414095</td>\n",
       "      <td>1.669382</td>\n",
       "      <td>-0.473460</td>\n",
       "    </tr>\n",
       "  </tbody>\n",
       "</table>\n",
       "</div>"
      ],
      "text/plain": [
       "                                   A         B         C         D\n",
       "2022-07-13 11:34:58.405876 -0.541272  1.407834  0.628583  0.758467\n",
       "2022-07-14 11:34:58.405876 -0.937638  0.178493 -0.536041  0.184340\n",
       "2022-07-15 11:34:58.405876 -0.091753 -0.451250 -0.295300 -1.397824\n",
       "2022-07-16 11:34:58.405876 -0.536005 -1.067801  1.204170  0.560601\n",
       "2022-07-17 11:34:58.405876 -0.483628 -0.805719 -0.180991  1.564771\n",
       "2022-07-18 11:34:58.405876  0.285432  0.727122 -0.083670  0.965996\n",
       "2022-07-19 11:34:58.405876 -0.540892  0.132180 -1.856507 -0.018000\n",
       "2022-07-20 11:34:58.405876  1.531342  2.486505 -0.215869  0.122700\n",
       "2022-07-21 11:34:58.405876  1.005827  0.657729 -0.136139  0.080266\n",
       "2022-07-22 11:34:58.405876 -1.351448 -0.473379  0.629779  1.667507\n",
       "2022-07-23 11:34:58.405876 -1.433740 -0.639436 -0.439284 -0.599850\n",
       "2022-07-24 11:34:58.405876  0.780551  0.384883  0.177438  0.360499\n",
       "2022-07-25 11:34:58.405876 -1.223882 -0.466602  0.182193  1.074331\n",
       "2022-07-26 11:34:58.405876  0.081865  1.391925 -0.637733  1.900592\n",
       "2022-07-27 11:34:58.405876  1.371659 -1.101974 -0.830921 -1.109350\n",
       "2022-07-28 11:34:58.405876  0.286905  0.365794 -1.044600  0.861544\n",
       "2022-07-29 11:34:58.405876  1.378062 -1.477942 -0.043485 -1.286622\n",
       "2022-07-30 11:34:58.405876  0.442799 -0.028570  0.286177  0.969227\n",
       "2022-07-31 11:34:58.405876 -1.462173 -0.207738  1.674283  0.251780\n",
       "2022-08-01 11:34:58.405876  1.099096  1.950672  0.525560 -1.033645\n",
       "2022-08-02 11:34:58.405876 -0.314520  0.832988  0.485761  1.599613\n",
       "2022-08-03 11:34:58.405876  0.503903  1.015602 -0.388872 -1.377782\n",
       "2022-08-04 11:34:58.405876  1.107639  0.915907  1.147038  1.438059\n",
       "2022-08-05 11:34:58.405876 -0.040193 -0.431210 -1.568927  0.851569\n",
       "2022-08-06 11:34:58.405876 -0.423598 -0.005841  0.062890  0.380555\n",
       "2022-08-07 11:34:58.405876 -1.804983 -1.260933  0.136224  0.986720\n",
       "2022-08-08 11:34:58.405876 -1.546432  1.694968 -0.152856 -0.785197\n",
       "2022-08-09 11:34:58.405876 -0.254176  0.097687 -0.470556  0.335833\n",
       "2022-08-10 11:34:58.405876  1.854254  0.105475 -0.179501  0.085654\n",
       "2022-08-11 11:34:58.405876 -1.763055 -1.209674 -0.796235  1.032901\n",
       "2022-08-12 11:34:58.405876  0.476943 -0.948792  1.381463 -1.023719\n",
       "2022-08-13 11:34:58.405876 -1.591748  0.041797  1.291287 -0.140001\n",
       "2022-08-14 11:34:58.405876  1.367885  0.090846  0.596096  1.047576\n",
       "2022-08-15 11:34:58.405876 -0.622396 -0.029445  0.111880 -0.508908\n",
       "2022-08-16 11:34:58.405876 -1.086232  0.848616  1.603035 -0.802355\n",
       "2022-08-17 11:34:58.405876  1.045781 -0.492353 -0.516109 -0.808709\n",
       "2022-08-18 11:34:58.405876  2.183465 -1.099701 -0.621287 -0.546263\n",
       "2022-08-19 11:34:58.405876  0.911995  0.687970  0.809273  1.462861\n",
       "2022-08-20 11:34:58.405876 -0.362024  0.355196  0.678116  1.656074\n",
       "2022-08-21 11:34:58.405876  2.936390  1.240946  1.522410  1.124715\n",
       "2022-08-22 11:34:58.405876 -0.379890 -0.802737 -0.710608 -1.216125\n",
       "2022-08-23 11:34:58.405876  0.132475 -0.048810 -0.168703 -0.455818\n",
       "2022-08-24 11:34:58.405876  0.265393  1.200096 -0.523130 -0.205145\n",
       "2022-08-25 11:34:58.405876 -0.907506  0.230769  0.834085 -0.054228\n",
       "2022-08-26 11:34:58.405876  0.097227  0.437451 -0.017237  0.465563\n",
       "2022-08-27 11:34:58.405876  0.981465  0.350873  0.139872  0.212295\n",
       "2022-08-28 11:34:58.405876  0.857542  0.452960  0.587285 -0.477459\n",
       "2022-08-29 11:34:58.405876 -0.503466  1.050519  0.030601 -0.535351\n",
       "2022-08-30 11:34:58.405876  0.239280 -1.068106 -0.303086 -0.333380\n",
       "2022-08-31 11:34:58.405876  1.935199  0.414095  1.669382 -0.473460"
      ]
     },
     "execution_count": 126,
     "metadata": {},
     "output_type": "execute_result"
    }
   ],
   "source": [
    "df"
   ]
  },
  {
   "cell_type": "code",
   "execution_count": 127,
   "id": "aa775e81",
   "metadata": {},
   "outputs": [
    {
     "data": {
      "text/plain": [
       "<AxesSubplot:>"
      ]
     },
     "execution_count": 127,
     "metadata": {},
     "output_type": "execute_result"
    },
    {
     "data": {
      "image/png": "[encoded data removed]",
      "text/plain": [
       "<Figure size 432x288 with 1 Axes>"
      ]
     },
     "metadata": {
      "needs_background": "light"
     },
     "output_type": "display_data"
    }
   ],
   "source": [
    "df.cumsum()\n",
    "df.plot()"
   ]
  },
  {
   "cell_type": "markdown",
   "id": "63f69ea3",
   "metadata": {},
   "source": [
    "# Practice Example"
   ]
  },
  {
   "cell_type": "code",
   "execution_count": 128,
   "id": "494d5c34",
   "metadata": {},
   "outputs": [],
   "source": [
    "# Remove repeated data using Pandas"
   ]
  },
  {
   "cell_type": "code",
   "execution_count": 130,
   "id": "476f5224",
   "metadata": {},
   "outputs": [
    {
     "data": {
      "text/html": [
       "<div>\n",
       "<style scoped>\n",
       "    .dataframe tbody tr th:only-of-type {\n",
       "        vertical-align: middle;\n",
       "    }\n",
       "\n",
       "    .dataframe tbody tr th {\n",
       "        vertical-align: top;\n",
       "    }\n",
       "\n",
       "    .dataframe thead th {\n",
       "        text-align: right;\n",
       "    }\n",
       "</style>\n",
       "<table border=\"1\" class=\"dataframe\">\n",
       "  <thead>\n",
       "    <tr style=\"text-align: right;\">\n",
       "      <th></th>\n",
       "      <th>A</th>\n",
       "    </tr>\n",
       "  </thead>\n",
       "  <tbody>\n",
       "    <tr>\n",
       "      <th>0</th>\n",
       "      <td>2</td>\n",
       "    </tr>\n",
       "    <tr>\n",
       "      <th>1</th>\n",
       "      <td>2</td>\n",
       "    </tr>\n",
       "    <tr>\n",
       "      <th>2</th>\n",
       "      <td>2</td>\n",
       "    </tr>\n",
       "    <tr>\n",
       "      <th>3</th>\n",
       "      <td>3</td>\n",
       "    </tr>\n",
       "    <tr>\n",
       "      <th>4</th>\n",
       "      <td>3</td>\n",
       "    </tr>\n",
       "    <tr>\n",
       "      <th>5</th>\n",
       "      <td>3</td>\n",
       "    </tr>\n",
       "    <tr>\n",
       "      <th>6</th>\n",
       "      <td>4</td>\n",
       "    </tr>\n",
       "    <tr>\n",
       "      <th>7</th>\n",
       "      <td>4</td>\n",
       "    </tr>\n",
       "    <tr>\n",
       "      <th>8</th>\n",
       "      <td>5</td>\n",
       "    </tr>\n",
       "    <tr>\n",
       "      <th>9</th>\n",
       "      <td>6</td>\n",
       "    </tr>\n",
       "    <tr>\n",
       "      <th>10</th>\n",
       "      <td>7</td>\n",
       "    </tr>\n",
       "    <tr>\n",
       "      <th>11</th>\n",
       "      <td>7</td>\n",
       "    </tr>\n",
       "    <tr>\n",
       "      <th>12</th>\n",
       "      <td>8</td>\n",
       "    </tr>\n",
       "  </tbody>\n",
       "</table>\n",
       "</div>"
      ],
      "text/plain": [
       "    A\n",
       "0   2\n",
       "1   2\n",
       "2   2\n",
       "3   3\n",
       "4   3\n",
       "5   3\n",
       "6   4\n",
       "7   4\n",
       "8   5\n",
       "9   6\n",
       "10  7\n",
       "11  7\n",
       "12  8"
      ]
     },
     "execution_count": 130,
     "metadata": {},
     "output_type": "execute_result"
    }
   ],
   "source": [
    "df = pd.DataFrame({'A': [2,2,2,3,3,3,4,4,5,6,7,7,8]}) \n",
    "df"
   ]
  },
  {
   "cell_type": "code",
   "execution_count": 132,
   "id": "7643bd8d",
   "metadata": {},
   "outputs": [
    {
     "data": {
      "text/html": [
       "<div>\n",
       "<style scoped>\n",
       "    .dataframe tbody tr th:only-of-type {\n",
       "        vertical-align: middle;\n",
       "    }\n",
       "\n",
       "    .dataframe tbody tr th {\n",
       "        vertical-align: top;\n",
       "    }\n",
       "\n",
       "    .dataframe thead th {\n",
       "        text-align: right;\n",
       "    }\n",
       "</style>\n",
       "<table border=\"1\" class=\"dataframe\">\n",
       "  <thead>\n",
       "    <tr style=\"text-align: right;\">\n",
       "      <th></th>\n",
       "      <th>A</th>\n",
       "    </tr>\n",
       "  </thead>\n",
       "  <tbody>\n",
       "    <tr>\n",
       "      <th>0</th>\n",
       "      <td>2</td>\n",
       "    </tr>\n",
       "    <tr>\n",
       "      <th>3</th>\n",
       "      <td>3</td>\n",
       "    </tr>\n",
       "    <tr>\n",
       "      <th>6</th>\n",
       "      <td>4</td>\n",
       "    </tr>\n",
       "    <tr>\n",
       "      <th>8</th>\n",
       "      <td>5</td>\n",
       "    </tr>\n",
       "    <tr>\n",
       "      <th>9</th>\n",
       "      <td>6</td>\n",
       "    </tr>\n",
       "    <tr>\n",
       "      <th>10</th>\n",
       "      <td>7</td>\n",
       "    </tr>\n",
       "    <tr>\n",
       "      <th>12</th>\n",
       "      <td>8</td>\n",
       "    </tr>\n",
       "  </tbody>\n",
       "</table>\n",
       "</div>"
      ],
      "text/plain": [
       "    A\n",
       "0   2\n",
       "3   3\n",
       "6   4\n",
       "8   5\n",
       "9   6\n",
       "10  7\n",
       "12  8"
      ]
     },
     "execution_count": 132,
     "metadata": {},
     "output_type": "execute_result"
    }
   ],
   "source": [
    "df.loc[df['A'].shift() !=df['A']]"
   ]
  },
  {
   "cell_type": "code",
   "execution_count": null,
   "id": "61186159",
   "metadata": {},
   "outputs": [],
   "source": []
  }
 ],
 "metadata": {
  "kernelspec": {
   "display_name": "Python 3 (ipykernel)",
   "language": "python",
   "name": "python3"
  },
  "language_info": {
   "codemirror_mode": {
    "name": "ipython",
    "version": 3
   },
   "file_extension": ".py",
   "mimetype": "text/x-python",
   "name": "python",
   "nbconvert_exporter": "python",
   "pygments_lexer": "ipython3",
   "version": "3.9.12"
  }
 },
 "nbformat": 4,
 "nbformat_minor": 5
}
